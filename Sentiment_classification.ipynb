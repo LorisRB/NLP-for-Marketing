{
  "nbformat": 4,
  "nbformat_minor": 0,
  "metadata": {
    "colab": {
      "name": "FINAL.ipynb",
      "provenance": [],
      "collapsed_sections": []
    },
    "kernelspec": {
      "name": "python3",
      "display_name": "Python 3"
    },
    "language_info": {
      "name": "python"
    }
  },
  "cells": [
    {
      "cell_type": "markdown",
      "source": [
        "# Sentiment classification\n",
        "### Marie BRUGUET, Victor PION and Loris BULLIARD\n",
        "M2-EBDS /\n",
        "DEC-2021"
      ],
      "metadata": {
        "id": "o3cppdZ4cfgV"
      }
    },
    {
      "cell_type": "markdown",
      "source": [
        "## Introduction to our project\n",
        "\n",
        "Firms are interested to know customers, especially their feelings abouts products/services they sell to undertake actions to improve. \n",
        "Make a survey about customer satisfaction is relatively easy to treat as data but it has several drawback and can be costly (in time, design of a questionnaire is cumbersome, lot of bias (consumer and firm side (introspection bias)))\n",
        "An alternative is to analyse social media comments to get “immediate reaction” (réaction à chaud). Unlike surveys, it’s hard to make simple descriptive stats from this kind of data (unstructured).\n",
        "\n",
        "Goals/motivation:\n",
        "Train a sentiment classifier on a first dataset and project it on a second dataset.\n",
        "Interest for firms that have small datasets, can’t train a model with their own data. It is also costly to labelized data. Model already trained avoid this, if we can check on sample data. \n",
        "We will choose a pre-trained models, keep the weights, change the inputs vector and the output vector and do fine tuning. This way, we will benefits from transfer learning.\n",
        "Try to summarize data by performing clustering to find topics, labelize them and examine their characteristics (negative sentiment)\n",
        "\n",
        "A model trained on a first data set and projected on a second data set is interesting for companies that do not have a large enough data set to train their own model\n",
        "\n"
      ],
      "metadata": {
        "id": "oHenCHuCdxHH"
      }
    },
    {
      "cell_type": "markdown",
      "source": [
        "# Imports"
      ],
      "metadata": {
        "id": "AOja6f92Scog"
      }
    },
    {
      "cell_type": "code",
      "execution_count": null,
      "metadata": {
        "colab": {
          "base_uri": "https://localhost:8080/"
        },
        "id": "ZDxmCSsISVF1",
        "outputId": "f811dfb7-a311-44cb-f7c6-c758ede2cdb5"
      },
      "outputs": [
        {
          "output_type": "stream",
          "name": "stdout",
          "text": [
            "[nltk_data] Downloading package stopwords to /root/nltk_data...\n",
            "[nltk_data]   Unzipping corpora/stopwords.zip.\n",
            "[nltk_data] Downloading package wordnet to /root/nltk_data...\n",
            "[nltk_data]   Unzipping corpora/wordnet.zip.\n",
            "[nltk_data] Downloading package punkt to /root/nltk_data...\n",
            "[nltk_data]   Unzipping tokenizers/punkt.zip.\n",
            "[nltk_data] Downloading package words to /root/nltk_data...\n",
            "[nltk_data]   Unzipping corpora/words.zip.\n",
            "[nltk_data] Downloading package averaged_perceptron_tagger to\n",
            "[nltk_data]     /root/nltk_data...\n",
            "[nltk_data]   Unzipping taggers/averaged_perceptron_tagger.zip.\n"
          ]
        }
      ],
      "source": [
        "import os, json, gzip \n",
        "import pandas as pd\n",
        "import numpy as np\n",
        "import matplotlib.pyplot as plt\n",
        "import seaborn as sns\n",
        "\n",
        "import string\n",
        "import nltk\n",
        "nltk.download('stopwords')\n",
        "nltk.download('wordnet')\n",
        "nltk.download('punkt')\n",
        "nltk.download('words')\n",
        "nltk.download('averaged_perceptron_tagger')\n",
        "from nltk.corpus import wordnet, stopwords\n",
        "\n",
        "from sklearn.model_selection import train_test_split, GridSearchCV\n",
        "from sklearn.pipeline import Pipeline\n",
        "from sklearn.feature_extraction.text import CountVectorizer, TfidfTransformer\n",
        "from sklearn.metrics import classification_report, confusion_matrix, accuracy_score\n",
        "from sklearn.linear_model import LogisticRegression"
      ]
    },
    {
      "cell_type": "markdown",
      "source": [
        "# Load data"
      ],
      "metadata": {
        "id": "ewquODhRbUWC"
      }
    },
    {
      "cell_type": "code",
      "source": [
        "!wget http://deepyeti.ucsd.edu/jianmo/amazon/categoryFilesSmall/Grocery_and_Gourmet_Food_5.json.gz"
      ],
      "metadata": {
        "colab": {
          "base_uri": "https://localhost:8080/"
        },
        "id": "V8gB_7yBSjAG",
        "outputId": "6da9c613-d96a-4898-9ea4-a35ce98bafcf"
      },
      "execution_count": null,
      "outputs": [
        {
          "output_type": "stream",
          "name": "stdout",
          "text": [
            "--2021-12-19 09:46:01--  http://deepyeti.ucsd.edu/jianmo/amazon/categoryFilesSmall/Grocery_and_Gourmet_Food_5.json.gz\n",
            "Resolving deepyeti.ucsd.edu (deepyeti.ucsd.edu)... 169.228.63.50\n",
            "Connecting to deepyeti.ucsd.edu (deepyeti.ucsd.edu)|169.228.63.50|:80... connected.\n",
            "HTTP request sent, awaiting response... 200 OK\n",
            "Length: 146631394 (140M) [application/octet-stream]\n",
            "Saving to: ‘Grocery_and_Gourmet_Food_5.json.gz’\n",
            "\n",
            "Grocery_and_Gourmet 100%[===================>] 139.84M  18.5MB/s    in 8.6s    \n",
            "\n",
            "2021-12-19 09:46:10 (16.3 MB/s) - ‘Grocery_and_Gourmet_Food_5.json.gz’ saved [146631394/146631394]\n",
            "\n"
          ]
        }
      ]
    },
    {
      "cell_type": "code",
      "source": [
        "data = []\n",
        "\n",
        "with gzip.open('Grocery_and_Gourmet_Food_5.json.gz') as f:\n",
        "\n",
        "    for l in f:\n",
        "\n",
        "        data.append(json.loads(l.strip()))"
      ],
      "metadata": {
        "id": "NWM709x3Smoz"
      },
      "execution_count": null,
      "outputs": []
    },
    {
      "cell_type": "code",
      "source": [
        "df = pd.DataFrame.from_dict(data)"
      ],
      "metadata": {
        "id": "9_Vh6BUqSpF6"
      },
      "execution_count": null,
      "outputs": []
    },
    {
      "cell_type": "code",
      "source": [
        "len(df)"
      ],
      "metadata": {
        "colab": {
          "base_uri": "https://localhost:8080/"
        },
        "id": "qBbBboSUxi25",
        "outputId": "ae128fff-5c9f-4bea-c809-4f4299efab16"
      },
      "execution_count": null,
      "outputs": [
        {
          "output_type": "execute_result",
          "data": {
            "text/plain": [
              "1143860"
            ]
          },
          "metadata": {},
          "execution_count": 5
        }
      ]
    },
    {
      "cell_type": "markdown",
      "source": [
        "# Pre-preprocessing"
      ],
      "metadata": {
        "id": "z8lIY5k7baGH"
      }
    },
    {
      "cell_type": "code",
      "source": [
        "df = df.drop(['verified', 'summary', 'reviewTime', 'reviewerID', 'asin', 'reviewerName', 'unixReviewTime', 'vote', 'style', 'image'], axis = 1)"
      ],
      "metadata": {
        "id": "Ppva69Q0SpdP"
      },
      "execution_count": null,
      "outputs": []
    },
    {
      "cell_type": "code",
      "source": [
        "df = df.dropna()"
      ],
      "metadata": {
        "id": "tDs0MDGCSril"
      },
      "execution_count": null,
      "outputs": []
    },
    {
      "cell_type": "code",
      "source": [
        "df['text_length'] = df['reviewText'].str.len()"
      ],
      "metadata": {
        "id": "I1Spw8aYStqm"
      },
      "execution_count": null,
      "outputs": []
    },
    {
      "cell_type": "code",
      "source": [
        "sns.histplot(data=df, x='text_length', bins='auto', color='darkblue');\n",
        "plt.title('Text Length Distribution')"
      ],
      "metadata": {
        "colab": {
          "base_uri": "https://localhost:8080/",
          "height": 315
        },
        "id": "UHTaEpBySwlP",
        "outputId": "02fb14cd-0263-49bd-a8e9-09748de9d5fe"
      },
      "execution_count": null,
      "outputs": [
        {
          "output_type": "execute_result",
          "data": {
            "text/plain": [
              "Text(0.5, 1.0, 'Text Length Distribution')"
            ]
          },
          "metadata": {},
          "execution_count": 9
        },
        {
          "output_type": "display_data",
          "data": {
            "image/png": "[encoded data removed]",
            "text/plain": [
              "<Figure size 432x288 with 1 Axes>"
            ]
          },
          "metadata": {
            "needs_background": "light"
          }
        }
      ]
    },
    {
      "cell_type": "code",
      "source": [
        "df = df[(df.text_length < 500) & (df.text_length > 10)]"
      ],
      "metadata": {
        "id": "Gwihevh_SxzG"
      },
      "execution_count": null,
      "outputs": []
    },
    {
      "cell_type": "code",
      "source": [
        "sns.histplot(data=df, x='text_length', bins='auto', color='darkblue');\n",
        "plt.title('Text Length Distribution')"
      ],
      "metadata": {
        "colab": {
          "base_uri": "https://localhost:8080/",
          "height": 314
        },
        "id": "k3gXNkvyS1l0",
        "outputId": "8d94e03d-7c77-4bfb-b9a2-2d9078130acc"
      },
      "execution_count": null,
      "outputs": [
        {
          "output_type": "execute_result",
          "data": {
            "text/plain": [
              "Text(0.5, 1.0, 'Text Length Distribution')"
            ]
          },
          "metadata": {},
          "execution_count": 29
        },
        {
          "output_type": "display_data",
          "data": {
            "image/png": "[encoded data removed]",
            "text/plain": [
              "<Figure size 432x288 with 1 Axes>"
            ]
          },
          "metadata": {
            "needs_background": "light"
          }
        }
      ]
    },
    {
      "cell_type": "code",
      "source": [
        "df = df.drop(['text_length'], axis = 1)"
      ],
      "metadata": {
        "id": "ANPWSUT2S2vZ"
      },
      "execution_count": null,
      "outputs": []
    },
    {
      "cell_type": "code",
      "source": [
        "df['overall'].value_counts().sort_index().plot.bar(title = \"Ratings distribution\", \n",
        "                                                   color = [\"lightblue\",\"lightblue\",\"lightblue\", \"lightblue\", \"lightgreen\"])\n",
        "plt.xticks(rotation = 0, horizontalalignment = \"center\")\n",
        "plt.xlabel(\"Rate\")\n",
        "plt.ylabel(\"Count\")"
      ],
      "metadata": {
        "colab": {
          "base_uri": "https://localhost:8080/",
          "height": 312
        },
        "id": "U9-DrwYjjIUo",
        "outputId": "c0f43278-4339-416f-bd98-c62a193120fd"
      },
      "execution_count": null,
      "outputs": [
        {
          "output_type": "execute_result",
          "data": {
            "text/plain": [
              "Text(0, 0.5, 'Count')"
            ]
          },
          "metadata": {},
          "execution_count": 31
        },
        {
          "output_type": "display_data",
          "data": {
            "image/png": "[encoded data removed]",
            "text/plain": [
              "<Figure size 432x288 with 1 Axes>"
            ]
          },
          "metadata": {
            "needs_background": "light"
          }
        }
      ]
    },
    {
      "cell_type": "code",
      "source": [
        "df['overall'] = df['overall'].replace({1: \"Bad\", 2:  \"Bad\", 3: \"Neutral\", 4: \"Good\", 5: \"Good\"})"
      ],
      "metadata": {
        "id": "VdSfMD9OS5Dm"
      },
      "execution_count": null,
      "outputs": []
    },
    {
      "cell_type": "code",
      "source": [
        "df['overall'].value_counts().plot.pie(autopct='%1.2f%%')"
      ],
      "metadata": {
        "colab": {
          "base_uri": "https://localhost:8080/",
          "height": 266
        },
        "id": "LJ7XbK8mS61K",
        "outputId": "c3f4b973-a850-4c52-b42f-f2e8d41dec3e"
      },
      "execution_count": null,
      "outputs": [
        {
          "output_type": "execute_result",
          "data": {
            "text/plain": [
              "<matplotlib.axes._subplots.AxesSubplot at 0x7fdc40d99690>"
            ]
          },
          "metadata": {},
          "execution_count": 34
        },
        {
          "output_type": "display_data",
          "data": {
            "image/png": "[encoded data removed]",
            "text/plain": [
              "<Figure size 432x288 with 1 Axes>"
            ]
          },
          "metadata": {}
        }
      ]
    },
    {
      "cell_type": "code",
      "source": [
        "len(df)"
      ],
      "metadata": {
        "colab": {
          "base_uri": "https://localhost:8080/"
        },
        "id": "zHNJMOLrUMHh",
        "outputId": "25b56314-dada-4dbc-a7d1-6605bc6d2c22"
      },
      "execution_count": null,
      "outputs": [
        {
          "output_type": "execute_result",
          "data": {
            "text/plain": [
              "953517"
            ]
          },
          "metadata": {},
          "execution_count": 35
        }
      ]
    },
    {
      "cell_type": "code",
      "source": [
        "df_bad = df[df.overall == \"Bad\"].sample(75000)\n",
        "df_good = df[df.overall == \"Good\"].sample(75000)"
      ],
      "metadata": {
        "id": "HXGpHKknS7zH"
      },
      "execution_count": null,
      "outputs": []
    },
    {
      "cell_type": "code",
      "source": [
        "df = pd.concat([df_bad, df_good])"
      ],
      "metadata": {
        "id": "8uCHc3TmTMFc"
      },
      "execution_count": null,
      "outputs": []
    },
    {
      "cell_type": "code",
      "source": [
        "df['overall'].value_counts().plot.pie(startangle = 90)"
      ],
      "metadata": {
        "colab": {
          "base_uri": "https://localhost:8080/",
          "height": 267
        },
        "id": "-I6adkuxTOTH",
        "outputId": "e05237fc-7853-4924-b21e-fbf78b896fc5"
      },
      "execution_count": null,
      "outputs": [
        {
          "output_type": "execute_result",
          "data": {
            "text/plain": [
              "<matplotlib.axes._subplots.AxesSubplot at 0x7fd7be8cc950>"
            ]
          },
          "metadata": {},
          "execution_count": 15
        },
        {
          "output_type": "display_data",
          "data": {
            "image/png": "[encoded data removed]",
            "text/plain": [
              "<Figure size 432x288 with 1 Axes>"
            ]
          },
          "metadata": {}
        }
      ]
    },
    {
      "cell_type": "markdown",
      "source": [
        "# Text cleaning\n",
        "\n",
        "Preprocessing the reviews include lowercasing, removing punctuations and removing stopwords. Stopwords are insignificant informations that are frequent in texts such as \"or\", \"to\"... Removing them allows to reduce the dimension of the text vectors."
      ],
      "metadata": {
        "id": "krAuBOtnTSHu"
      }
    },
    {
      "cell_type": "code",
      "source": [
        "stopwords_list = stopwords.words('english')\n",
        "\n",
        "def ReviewProcessing(df):\n",
        "  # remove non alphanumeric \n",
        "  df['review_cleaned'] = df.reviewText.str.replace('[^a-zA-Z0-9 ]', '')\n",
        "  # lowercase\n",
        "  df.review_cleaned = df.review_cleaned.str.lower()\n",
        "  # split into list\n",
        "  df.review_cleaned = df.review_cleaned.str.split(' ')\n",
        "  # remove stopwords\n",
        "  df.review_cleaned = df.review_cleaned.apply(lambda x: [item for item in x if item not in stopwords_list])\n",
        "  return df"
      ],
      "metadata": {
        "id": "JMierNbdTPlj"
      },
      "execution_count": null,
      "outputs": []
    },
    {
      "cell_type": "code",
      "source": [
        "df = ReviewProcessing(df)"
      ],
      "metadata": {
        "id": "aJNvAOJkTX2d"
      },
      "execution_count": null,
      "outputs": []
    },
    {
      "cell_type": "code",
      "source": [
        "df.head()"
      ],
      "metadata": {
        "colab": {
          "base_uri": "https://localhost:8080/",
          "height": 206
        },
        "id": "PeA3VAwNTY1K",
        "outputId": "0cb45d6a-8b5d-45d2-ae8b-b178edcb82ee"
      },
      "execution_count": null,
      "outputs": [
        {
          "output_type": "execute_result",
          "data": {
            "text/html": [
              "\n",
              "  <div id=\"df-860f1c91-bee2-4a4b-93c5-c4f104965027\">\n",
              "    <div class=\"colab-df-container\">\n",
              "      <div>\n",
              "<style scoped>\n",
              "    .dataframe tbody tr th:only-of-type {\n",
              "        vertical-align: middle;\n",
              "    }\n",
              "\n",
              "    .dataframe tbody tr th {\n",
              "        vertical-align: top;\n",
              "    }\n",
              "\n",
              "    .dataframe thead th {\n",
              "        text-align: right;\n",
              "    }\n",
              "</style>\n",
              "<table border=\"1\" class=\"dataframe\">\n",
              "  <thead>\n",
              "    <tr style=\"text-align: right;\">\n",
              "      <th></th>\n",
              "      <th>overall</th>\n",
              "      <th>reviewText</th>\n",
              "      <th>review_cleaned</th>\n",
              "    </tr>\n",
              "  </thead>\n",
              "  <tbody>\n",
              "    <tr>\n",
              "      <th>845853</th>\n",
              "      <td>Bad</td>\n",
              "      <td>The Raspberry Truffle actually tastes like its...</td>\n",
              "      <td>[raspberry, truffle, actually, tastes, like, n...</td>\n",
              "    </tr>\n",
              "    <tr>\n",
              "      <th>28755</th>\n",
              "      <td>Bad</td>\n",
              "      <td>This is a smokey type of tea, and I did not li...</td>\n",
              "      <td>[smokey, type, tea, like, taste, use, yorkshir...</td>\n",
              "    </tr>\n",
              "    <tr>\n",
              "      <th>546603</th>\n",
              "      <td>Bad</td>\n",
              "      <td>I am not happy with this at all, but It is my ...</td>\n",
              "      <td>[happy, fault, didnt, look, made, afraid, eat,...</td>\n",
              "    </tr>\n",
              "    <tr>\n",
              "      <th>506689</th>\n",
              "      <td>Bad</td>\n",
              "      <td>everyone tastes are different, but I don't thi...</td>\n",
              "      <td>[everyone, tastes, different, dont, think, goo...</td>\n",
              "    </tr>\n",
              "    <tr>\n",
              "      <th>1044388</th>\n",
              "      <td>Bad</td>\n",
              "      <td>These were good many years ago, but the last t...</td>\n",
              "      <td>[good, many, years, ago, last, two, orders, ta...</td>\n",
              "    </tr>\n",
              "  </tbody>\n",
              "</table>\n",
              "</div>\n",
              "      <button class=\"colab-df-convert\" onclick=\"convertToInteractive('df-860f1c91-bee2-4a4b-93c5-c4f104965027')\"\n",
              "              title=\"Convert this dataframe to an interactive table.\"\n",
              "              style=\"display:none;\">\n",
              "        \n",
              "  <svg xmlns=\"http://www.w3.org/2000/svg\" height=\"24px\"viewBox=\"0 0 24 24\"\n",
              "       width=\"24px\">\n",
              "    <path d=\"M0 0h24v24H0V0z\" fill=\"none\"/>\n",
              "    <path d=\"M18.56 5.44l.94 2.06.94-2.06 2.06-.94-2.06-.94-.94-2.06-.94 2.06-2.06.94zm-11 1L8.5 8.5l.94-2.06 2.06-.94-2.06-.94L8.5 2.5l-.94 2.06-2.06.94zm10 10l.94 2.06.94-2.06 2.06-.94-2.06-.94-.94-2.06-.94 2.06-2.06.94z\"/><path d=\"M17.41 7.96l-1.37-1.37c-.4-.4-.92-.59-1.43-.59-.52 0-1.04.2-1.43.59L10.3 9.45l-7.72 7.72c-.78.78-.78 2.05 0 2.83L4 21.41c.39.39.9.59 1.41.59.51 0 1.02-.2 1.41-.59l7.78-7.78 2.81-2.81c.8-.78.8-2.07 0-2.86zM5.41 20L4 18.59l7.72-7.72 1.47 1.35L5.41 20z\"/>\n",
              "  </svg>\n",
              "      </button>\n",
              "      \n",
              "  <style>\n",
              "    .colab-df-container {\n",
              "      display:flex;\n",
              "      flex-wrap:wrap;\n",
              "      gap: 12px;\n",
              "    }\n",
              "\n",
              "    .colab-df-convert {\n",
              "      background-color: #E8F0FE;\n",
              "      border: none;\n",
              "      border-radius: 50%;\n",
              "      cursor: pointer;\n",
              "      display: none;\n",
              "      fill: #1967D2;\n",
              "      height: 32px;\n",
              "      padding: 0 0 0 0;\n",
              "      width: 32px;\n",
              "    }\n",
              "\n",
              "    .colab-df-convert:hover {\n",
              "      background-color: #E2EBFA;\n",
              "      box-shadow: 0px 1px 2px rgba(60, 64, 67, 0.3), 0px 1px 3px 1px rgba(60, 64, 67, 0.15);\n",
              "      fill: #174EA6;\n",
              "    }\n",
              "\n",
              "    [theme=dark] .colab-df-convert {\n",
              "      background-color: #3B4455;\n",
              "      fill: #D2E3FC;\n",
              "    }\n",
              "\n",
              "    [theme=dark] .colab-df-convert:hover {\n",
              "      background-color: #434B5C;\n",
              "      box-shadow: 0px 1px 3px 1px rgba(0, 0, 0, 0.15);\n",
              "      filter: drop-shadow(0px 1px 2px rgba(0, 0, 0, 0.3));\n",
              "      fill: #FFFFFF;\n",
              "    }\n",
              "  </style>\n",
              "\n",
              "      <script>\n",
              "        const buttonEl =\n",
              "          document.querySelector('#df-860f1c91-bee2-4a4b-93c5-c4f104965027 button.colab-df-convert');\n",
              "        buttonEl.style.display =\n",
              "          google.colab.kernel.accessAllowed ? 'block' : 'none';\n",
              "\n",
              "        async function convertToInteractive(key) {\n",
              "          const element = document.querySelector('#df-860f1c91-bee2-4a4b-93c5-c4f104965027');\n",
              "          const dataTable =\n",
              "            await google.colab.kernel.invokeFunction('convertToInteractive',\n",
              "                                                     [key], {});\n",
              "          if (!dataTable) return;\n",
              "\n",
              "          const docLinkHtml = 'Like what you see? Visit the ' +\n",
              "            '<a target=\"_blank\" href=https://colab.research.google.com/notebooks/data_table.ipynb>data table notebook</a>'\n",
              "            + ' to learn more about interactive tables.';\n",
              "          element.innerHTML = '';\n",
              "          dataTable['output_type'] = 'display_data';\n",
              "          await google.colab.output.renderOutput(dataTable, element);\n",
              "          const docLink = document.createElement('div');\n",
              "          docLink.innerHTML = docLinkHtml;\n",
              "          element.appendChild(docLink);\n",
              "        }\n",
              "      </script>\n",
              "    </div>\n",
              "  </div>\n",
              "  "
            ],
            "text/plain": [
              "        overall  ...                                     review_cleaned\n",
              "845853      Bad  ...  [raspberry, truffle, actually, tastes, like, n...\n",
              "28755       Bad  ...  [smokey, type, tea, like, taste, use, yorkshir...\n",
              "546603      Bad  ...  [happy, fault, didnt, look, made, afraid, eat,...\n",
              "506689      Bad  ...  [everyone, tastes, different, dont, think, goo...\n",
              "1044388     Bad  ...  [good, many, years, ago, last, two, orders, ta...\n",
              "\n",
              "[5 rows x 3 columns]"
            ]
          },
          "metadata": {},
          "execution_count": 18
        }
      ]
    },
    {
      "cell_type": "markdown",
      "source": [
        "# Lemmatization\n",
        "\n",
        "Lemmatization corresponds to the process of reducing words to their root by removing the conjugations for example. \"Throwing\" will become \"throw\", and \"thickened\" will become \"thicken\". This process allows to reduce the number of words by simplifying them, which improves a lot models."
      ],
      "metadata": {
        "id": "xlRJeSayTh53"
      }
    },
    {
      "cell_type": "code",
      "source": [
        "def get_wordnet_pos(word):\n",
        "  tag = nltk.pos_tag([word])[0][1][0].upper()\n",
        "  tag_dict = {\"J\": wordnet.ADJ,\n",
        "                \"N\": wordnet.NOUN,\n",
        "                \"V\": wordnet.VERB,\n",
        "                \"R\": wordnet.ADV}\n",
        "\n",
        "  return tag_dict.get(tag, wordnet.NOUN)\n",
        "\n",
        "lemmatizer = nltk.stem.WordNetLemmatizer()\n",
        "def get_lemmatize(sent):\n",
        "  return \" \".join([lemmatizer.lemmatize(w, get_wordnet_pos(w)) for w in nltk.word_tokenize(sent)])"
      ],
      "metadata": {
        "id": "hAFxLeAmTaVL"
      },
      "execution_count": null,
      "outputs": []
    },
    {
      "cell_type": "code",
      "source": [
        "%%time\n",
        "df.review_cleaned = df.review_cleaned.apply(' '.join)\n",
        "df['review_cleaned_lemmatized'] = df.review_cleaned.apply(get_lemmatize)"
      ],
      "metadata": {
        "colab": {
          "base_uri": "https://localhost:8080/"
        },
        "id": "JUMnTKUyTjUV",
        "outputId": "da2c7377-c143-4f4a-eb6c-5cf0d7c5243d"
      },
      "execution_count": null,
      "outputs": [
        {
          "output_type": "stream",
          "name": "stdout",
          "text": [
            "CPU times: user 6min 21s, sys: 17.5 s, total: 6min 38s\n",
            "Wall time: 7min 1s\n"
          ]
        }
      ]
    },
    {
      "cell_type": "code",
      "source": [
        "df.head()"
      ],
      "metadata": {
        "colab": {
          "base_uri": "https://localhost:8080/",
          "height": 206
        },
        "id": "CszNiHeLTlup",
        "outputId": "1dc621ad-b43e-4878-ecc6-72c94d4c3ce0"
      },
      "execution_count": null,
      "outputs": [
        {
          "output_type": "execute_result",
          "data": {
            "text/html": [
              "<div>\n",
              "<style scoped>\n",
              "    .dataframe tbody tr th:only-of-type {\n",
              "        vertical-align: middle;\n",
              "    }\n",
              "\n",
              "    .dataframe tbody tr th {\n",
              "        vertical-align: top;\n",
              "    }\n",
              "\n",
              "    .dataframe thead th {\n",
              "        text-align: right;\n",
              "    }\n",
              "</style>\n",
              "<table border=\"1\" class=\"dataframe\">\n",
              "  <thead>\n",
              "    <tr style=\"text-align: right;\">\n",
              "      <th></th>\n",
              "      <th>overall</th>\n",
              "      <th>reviewText</th>\n",
              "      <th>review_cleaned</th>\n",
              "      <th>review_cleaned_lemmatized</th>\n",
              "    </tr>\n",
              "  </thead>\n",
              "  <tbody>\n",
              "    <tr>\n",
              "      <th>656836</th>\n",
              "      <td>Bad</td>\n",
              "      <td>Chocolaty coating.  Yuck.  Whatever happened t...</td>\n",
              "      <td>chocolaty coating  yuck  whatever happened rea...</td>\n",
              "      <td>chocolaty coat yuck whatever happen real choco...</td>\n",
              "    </tr>\n",
              "    <tr>\n",
              "      <th>1090915</th>\n",
              "      <td>Bad</td>\n",
              "      <td>These were all melted together when they came ...</td>\n",
              "      <td>melted together came mail im still using would...</td>\n",
              "      <td>melt together come mail im still use would nev...</td>\n",
              "    </tr>\n",
              "    <tr>\n",
              "      <th>492130</th>\n",
              "      <td>Bad</td>\n",
              "      <td>I did not taste the garlic and these noodles h...</td>\n",
              "      <td>taste garlic noodles flavor plain greatly prefer</td>\n",
              "      <td>taste garlic noodle flavor plain greatly prefer</td>\n",
              "    </tr>\n",
              "    <tr>\n",
              "      <th>843455</th>\n",
              "      <td>Bad</td>\n",
              "      <td>These were awful!! No banana flavor at all. I ...</td>\n",
              "      <td>awful banana flavor eat paleo diet use artific...</td>\n",
              "      <td>awful banana flavor eat paleo diet use artific...</td>\n",
              "    </tr>\n",
              "    <tr>\n",
              "      <th>2175</th>\n",
              "      <td>Bad</td>\n",
              "      <td>This brand of tea felt stronger in the past. N...</td>\n",
              "      <td>brand tea felt stronger past feels ordinaryrel...</td>\n",
              "      <td>brand tea felt strong past feel ordinaryrelati...</td>\n",
              "    </tr>\n",
              "  </tbody>\n",
              "</table>\n",
              "</div>"
            ],
            "text/plain": [
              "        overall  ...                          review_cleaned_lemmatized\n",
              "656836      Bad  ...  chocolaty coat yuck whatever happen real choco...\n",
              "1090915     Bad  ...  melt together come mail im still use would nev...\n",
              "492130      Bad  ...    taste garlic noodle flavor plain greatly prefer\n",
              "843455      Bad  ...  awful banana flavor eat paleo diet use artific...\n",
              "2175        Bad  ...  brand tea felt strong past feel ordinaryrelati...\n",
              "\n",
              "[5 rows x 4 columns]"
            ]
          },
          "metadata": {},
          "execution_count": 44
        }
      ]
    },
    {
      "cell_type": "code",
      "source": [
        "x = df['review_cleaned_lemmatized']\n",
        "y = df['overall']"
      ],
      "metadata": {
        "id": "BWupJGhrVsf8"
      },
      "execution_count": null,
      "outputs": []
    },
    {
      "cell_type": "code",
      "source": [
        "X_train, X_test, y_train, y_test = train_test_split(x, y, test_size=0.2, stratify=y, random_state = 44)"
      ],
      "metadata": {
        "id": "9SYAbTydVozI"
      },
      "execution_count": null,
      "outputs": []
    },
    {
      "cell_type": "code",
      "source": [
        "logreg = Pipeline([('vect', CountVectorizer(ngram_range=(1, 2))),('tfidf', TfidfTransformer()),('clf', LogisticRegression(max_iter=500)),])"
      ],
      "metadata": {
        "id": "qsMJE0LHTlsX"
      },
      "execution_count": null,
      "outputs": []
    },
    {
      "cell_type": "code",
      "source": [
        "%%time\n",
        "logreg.fit(X_train, y_train)\n",
        "y_pred_log = logreg.predict(X_test)\n",
        "print(\"Accuracy score : \" + str(accuracy_score(y_test, y_pred_log)))"
      ],
      "metadata": {
        "colab": {
          "base_uri": "https://localhost:8080/"
        },
        "id": "zWL-VrQxTlqN",
        "outputId": "f7e90bf4-c3bf-4c56-a6b4-7b162d1330e3"
      },
      "execution_count": null,
      "outputs": [
        {
          "output_type": "stream",
          "name": "stdout",
          "text": [
            "Accuracy score : 0.8998666666666667\n",
            "CPU times: user 19.7 s, sys: 7.72 s, total: 27.4 s\n",
            "Wall time: 22 s\n"
          ]
        }
      ]
    },
    {
      "cell_type": "code",
      "source": [
        "print(\"Confusion matrix \\n\")\n",
        "print(confusion_matrix(y_test, y_pred_log))"
      ],
      "metadata": {
        "colab": {
          "base_uri": "https://localhost:8080/"
        },
        "id": "ajjuoD37Tlm9",
        "outputId": "71314a59-e75c-4ab2-f5b7-df5a00fdf33d"
      },
      "execution_count": null,
      "outputs": [
        {
          "output_type": "stream",
          "name": "stdout",
          "text": [
            "Confusion matrix \n",
            "\n",
            "[[13572  1428]\n",
            " [ 1576 13424]]\n"
          ]
        }
      ]
    },
    {
      "cell_type": "code",
      "source": [
        "print(\"Classification report \\n\")\n",
        "print(classification_report(y_test, y_pred_log))"
      ],
      "metadata": {
        "colab": {
          "base_uri": "https://localhost:8080/"
        },
        "id": "kE1sOIRRUgMy",
        "outputId": "cd2a131a-cb5f-42aa-9d24-0f40cff7fee3"
      },
      "execution_count": null,
      "outputs": [
        {
          "output_type": "stream",
          "name": "stdout",
          "text": [
            "Classification report \n",
            "\n",
            "              precision    recall  f1-score   support\n",
            "\n",
            "         Bad       0.90      0.90      0.90     15000\n",
            "        Good       0.90      0.89      0.90     15000\n",
            "\n",
            "    accuracy                           0.90     30000\n",
            "   macro avg       0.90      0.90      0.90     30000\n",
            "weighted avg       0.90      0.90      0.90     30000\n",
            "\n"
          ]
        }
      ]
    },
    {
      "cell_type": "code",
      "source": [
        "def make_confusion_matrix(cf,\n",
        "                          group_names=None,\n",
        "                          categories='auto',\n",
        "                          count=True,\n",
        "                          percent=True,\n",
        "                          cbar=True,\n",
        "                          xyticks=True,\n",
        "                          xyplotlabels=True,\n",
        "                          sum_stats=True,\n",
        "                          figsize=None,\n",
        "                          cmap='Blues',\n",
        "                          title=None):\n",
        "    '''\n",
        "    This function will make a pretty plot of an sklearn Confusion Matrix cm using a Seaborn heatmap visualization.\n",
        "    Arguments\n",
        "    ---------\n",
        "    cf:            confusion matrix to be passed in\n",
        "    group_names:   List of strings that represent the labels row by row to be shown in each square.\n",
        "    categories:    List of strings containing the categories to be displayed on the x,y axis. Default is 'auto'\n",
        "    count:         If True, show the raw number in the confusion matrix. Default is True.\n",
        "    normalize:     If True, show the proportions for each category. Default is True.\n",
        "    cbar:          If True, show the color bar. The cbar values are based off the values in the confusion matrix.\n",
        "                   Default is True.\n",
        "    xyticks:       If True, show x and y ticks. Default is True.\n",
        "    xyplotlabels:  If True, show 'True Label' and 'Predicted Label' on the figure. Default is True.\n",
        "    sum_stats:     If True, display summary statistics below the figure. Default is True.\n",
        "    figsize:       Tuple representing the figure size. Default will be the matplotlib rcParams value.\n",
        "    cmap:          Colormap of the values displayed from matplotlib.pyplot.cm. Default is 'Blues'\n",
        "                   See http://matplotlib.org/examples/color/colormaps_reference.html\n",
        "                   \n",
        "    title:         Title for the heatmap. Default is None.\n",
        "    '''\n",
        "\n",
        "\n",
        "    # CODE TO GENERATE TEXT INSIDE EACH SQUARE\n",
        "    blanks = ['' for i in range(cf.size)]\n",
        "\n",
        "    if group_names and len(group_names)==cf.size:\n",
        "        group_labels = [\"{}\\n\".format(value) for value in group_names]\n",
        "    else:\n",
        "        group_labels = blanks\n",
        "\n",
        "    if count:\n",
        "        group_counts = [\"{0:0.0f}\\n\".format(value) for value in cf.flatten()]\n",
        "    else:\n",
        "        group_counts = blanks\n",
        "\n",
        "    if percent:\n",
        "        group_percentages = [\"{0:.2%}\".format(value) for value in cf.flatten()/np.sum(cf)]\n",
        "    else:\n",
        "        group_percentages = blanks\n",
        "\n",
        "    box_labels = [f\"{v1}{v2}{v3}\".strip() for v1, v2, v3 in zip(group_labels,group_counts,group_percentages)]\n",
        "    box_labels = np.asarray(box_labels).reshape(cf.shape[0],cf.shape[1])\n",
        "\n",
        "\n",
        "    # CODE TO GENERATE SUMMARY STATISTICS & TEXT FOR SUMMARY STATS\n",
        "    if sum_stats:\n",
        "        #Accuracy is sum of diagonal divided by total observations\n",
        "        accuracy  = np.trace(cf) / float(np.sum(cf))\n",
        "\n",
        "        #if it is a binary confusion matrix, show some more stats\n",
        "        if len(cf)==2:\n",
        "            #Metrics for Binary Confusion Matrices\n",
        "            precision = cf[1,1] / sum(cf[:,1])\n",
        "            recall    = cf[1,1] / sum(cf[1,:])\n",
        "            f1_score  = 2*precision*recall / (precision + recall)\n",
        "            stats_text = \"\\n\\nAccuracy={:0.3f}\\nPrecision={:0.3f}\\nRecall={:0.3f}\\nF1 Score={:0.3f}\".format(\n",
        "                accuracy,precision,recall,f1_score)\n",
        "        else:\n",
        "            stats_text = \"\\n\\nAccuracy={:0.3f}\".format(accuracy)\n",
        "    else:\n",
        "        stats_text = \"\"\n",
        "\n",
        "\n",
        "    # SET FIGURE PARAMETERS ACCORDING TO OTHER ARGUMENTS\n",
        "    if figsize==None:\n",
        "        #Get default figure size if not set\n",
        "        figsize = plt.rcParams.get('figure.figsize')\n",
        "\n",
        "    if xyticks==False:\n",
        "        #Do not show categories if xyticks is False\n",
        "        categories=False\n",
        "\n",
        "\n",
        "    # MAKE THE HEATMAP VISUALIZATION\n",
        "    plt.figure(figsize=figsize)\n",
        "    sns.heatmap(cf,annot=box_labels,fmt=\"\",cmap=cmap,cbar=cbar,xticklabels=categories,yticklabels=categories)\n",
        "\n",
        "    if xyplotlabels:\n",
        "        plt.ylabel('True label')\n",
        "        plt.xlabel('Predicted label' + stats_text)\n",
        "    else:\n",
        "        plt.xlabel(stats_text)\n",
        "    \n",
        "    if title:\n",
        "        plt.title(title)"
      ],
      "metadata": {
        "id": "Xi9h8IdhUgXL"
      },
      "execution_count": null,
      "outputs": []
    },
    {
      "cell_type": "code",
      "source": [
        "make_confusion_matrix(confusion_matrix(y_test, y_pred_log))"
      ],
      "metadata": {
        "colab": {
          "base_uri": "https://localhost:8080/",
          "height": 337
        },
        "id": "ZhMjMJhIUgZn",
        "outputId": "e0b8d706-390b-467e-94ce-ef9291084033"
      },
      "execution_count": null,
      "outputs": [
        {
          "output_type": "display_data",
          "data": {
            "image/png": "[encoded data removed]",
            "text/plain": [
              "<Figure size 432x288 with 2 Axes>"
            ]
          },
          "metadata": {
            "needs_background": "light"
          }
        }
      ]
    },
    {
      "cell_type": "markdown",
      "source": [
        "# Artificial Neural Networks"
      ],
      "metadata": {
        "id": "Ts0QkUg8GR8k"
      }
    },
    {
      "cell_type": "code",
      "source": [
        "!pip3 install tensorflow_text>=2.0.0rc0"
      ],
      "metadata": {
        "id": "rAELbZboGRej"
      },
      "execution_count": null,
      "outputs": []
    },
    {
      "cell_type": "code",
      "source": [
        "import tensorflow as tf \n",
        "import tensorflow_hub as hub\n",
        "import tensorflow_text\n",
        "from keras.layers import Dense, Conv1D, Flatten, MaxPooling1D"
      ],
      "metadata": {
        "id": "7yzWtwphGclH"
      },
      "execution_count": null,
      "outputs": []
    },
    {
      "cell_type": "code",
      "source": [
        "y_test = y_test.replace({\"Good\": 1, \"Bad\": 0})\n",
        "y_train = y_train.replace({\"Good\": 1, \"Bad\": 0})"
      ],
      "metadata": {
        "id": "LNaZyTUiGgzg"
      },
      "execution_count": null,
      "outputs": []
    },
    {
      "cell_type": "markdown",
      "source": [
        " Get tensor flow objects inputs to feed our ANN"
      ],
      "metadata": {
        "id": "_GgX5e_QGj55"
      }
    },
    {
      "cell_type": "code",
      "source": [
        "train_tf = tf.data.Dataset.from_tensor_slices((X_train,y_train))\n",
        "test_tf =  tf.data.Dataset.from_tensor_slices((X_test, y_test))"
      ],
      "metadata": {
        "id": "L2ap6KSFGgwl"
      },
      "execution_count": null,
      "outputs": []
    },
    {
      "cell_type": "code",
      "source": [
        "next(iter(train_tf.batch(10)))"
      ],
      "metadata": {
        "colab": {
          "base_uri": "https://localhost:8080/"
        },
        "id": "CALva9dyGgt1",
        "outputId": "ef002941-c3d7-4224-b1da-3e3e07e6fd9e"
      },
      "execution_count": null,
      "outputs": [
        {
          "output_type": "execute_result",
          "data": {
            "text/plain": [
              "(<tf.Tensor: shape=(10,), dtype=string, numpy=\n",
              " array([b'absolutely best pickle importantly best size pickle tiny little chunk mean dont gag big hard chunk veg cheese pickle sarnie typical british delicacy bread toast butter sharp cheese spread thinly tangy sweet delicious',\n",
              "        b'chocolate melt thing didnt make enjoyable try pry daughter',\n",
              "        b'bitter tastealso weird float stuff 5 bottle',\n",
              "        b'snack great break tooth fill corn nut corn rock',\n",
              "        b'great bold flavor make one 8oz button add two tsp sugar creamer joes italian roast really help wake morning since wake something can not would suggest friend anyone hard time get morning',\n",
              "        b'provenal spent first twenty year life marseille delighted product smell wonderful taste excellent mix pinch tea puehr white tea mostly enhances flavor definitely buy',\n",
              "        b'didnt like',\n",
              "        b'normally love l l brownie gross flavor ate wont reorder particular flavor',\n",
              "        b'bread bad ive husband diabetic eat anything legal himand even threw away bread taste like dry sponge disappointed',\n",
              "        b'pack need well leak sweet low box product aa'], dtype=object)>,\n",
              " <tf.Tensor: shape=(10,), dtype=int64, numpy=array([1, 0, 0, 0, 1, 1, 0, 0, 0, 1])>)"
            ]
          },
          "metadata": {},
          "execution_count": 32
        }
      ]
    },
    {
      "cell_type": "markdown",
      "source": [
        "We will use \"nnlm-en-dim50\" trained on English Google News 7B corpus to vectorize our own corpus "
      ],
      "metadata": {
        "id": "4RETtzDiGyqQ"
      }
    },
    {
      "cell_type": "code",
      "source": [
        "model = \"https://tfhub.dev/google/nnlm-en-dim50/2\"\n",
        "hub_layer = hub.KerasLayer(model, input_shape=[], dtype=tf.string, trainable=True)"
      ],
      "metadata": {
        "id": "lvgp1MeGGgqx"
      },
      "execution_count": null,
      "outputs": []
    },
    {
      "cell_type": "markdown",
      "source": [
        "# ANN"
      ],
      "metadata": {
        "id": "EaMv_cnXHr7s"
      }
    },
    {
      "cell_type": "markdown",
      "source": [
        "We can define our first dense neural network architecture"
      ],
      "metadata": {
        "id": "CZY_UzGMHMXa"
      }
    },
    {
      "cell_type": "code",
      "source": [
        "model = tf.keras.Sequential()\n",
        "model.add(hub_layer)\n",
        "model.add(tf.keras.layers.Dense(128, activation='relu'))\n",
        "model.add(tf.keras.layers.Dropout(0.5))\n",
        "model.add(tf.keras.layers.Dense(32, activation='relu'))\n",
        "model.add(tf.keras.layers.Dense(1))\n",
        "\n",
        "model.summary()"
      ],
      "metadata": {
        "colab": {
          "base_uri": "https://localhost:8080/"
        },
        "id": "4UGAzYefGgdW",
        "outputId": "7db7eff1-45f9-47b1-e59c-567e7da97c5f"
      },
      "execution_count": null,
      "outputs": [
        {
          "output_type": "stream",
          "name": "stdout",
          "text": [
            "Model: \"sequential\"\n",
            "_________________________________________________________________\n",
            " Layer (type)                Output Shape              Param #   \n",
            "=================================================================\n",
            " keras_layer (KerasLayer)    (None, 50)                48190600  \n",
            "                                                                 \n",
            " dense (Dense)               (None, 128)               6528      \n",
            "                                                                 \n",
            " dropout (Dropout)           (None, 128)               0         \n",
            "                                                                 \n",
            " dense_1 (Dense)             (None, 32)                4128      \n",
            "                                                                 \n",
            " dense_2 (Dense)             (None, 1)                 33        \n",
            "                                                                 \n",
            "=================================================================\n",
            "Total params: 48,201,289\n",
            "Trainable params: 48,201,289\n",
            "Non-trainable params: 0\n",
            "_________________________________________________________________\n"
          ]
        }
      ]
    },
    {
      "cell_type": "code",
      "source": [
        "model.compile(optimizer='adam',\n",
        "              loss=tf.keras.losses.BinaryCrossentropy(from_logits=True),\n",
        "              metrics=['accuracy'])"
      ],
      "metadata": {
        "id": "7Rco6FtaHc1w"
      },
      "execution_count": null,
      "outputs": []
    },
    {
      "cell_type": "code",
      "source": [
        "history = model.fit(train_tf.shuffle(10000).batch(512),\n",
        "                    epochs=10,\n",
        "                    #validation_data=validate_tf.batch(512),\n",
        "                    verbose=1\n",
        "                    \n",
        "                    )"
      ],
      "metadata": {
        "colab": {
          "base_uri": "https://localhost:8080/"
        },
        "id": "ijQxZZhPHcyt",
        "outputId": "ea3dbccd-56f1-431e-d5a3-30bbd56f949d"
      },
      "execution_count": null,
      "outputs": [
        {
          "output_type": "stream",
          "name": "stdout",
          "text": [
            "Epoch 1/10\n",
            "235/235 [==============================] - 80s 328ms/step - loss: 0.3628 - accuracy: 0.8176\n",
            "Epoch 2/10\n",
            "235/235 [==============================] - 60s 257ms/step - loss: 0.2535 - accuracy: 0.8951\n",
            "Epoch 3/10\n",
            "235/235 [==============================] - 61s 260ms/step - loss: 0.2314 - accuracy: 0.9050\n",
            "Epoch 4/10\n",
            "235/235 [==============================] - 64s 273ms/step - loss: 0.2160 - accuracy: 0.9113\n",
            "Epoch 5/10\n",
            "235/235 [==============================] - 59s 253ms/step - loss: 0.2024 - accuracy: 0.9170\n",
            "Epoch 6/10\n",
            "235/235 [==============================] - 59s 251ms/step - loss: 0.1895 - accuracy: 0.9227\n",
            "Epoch 7/10\n",
            "235/235 [==============================] - 59s 252ms/step - loss: 0.1768 - accuracy: 0.9283\n",
            "Epoch 8/10\n",
            "235/235 [==============================] - 59s 250ms/step - loss: 0.1661 - accuracy: 0.9321\n",
            "Epoch 9/10\n",
            "235/235 [==============================] - 59s 252ms/step - loss: 0.1544 - accuracy: 0.9373\n",
            "Epoch 10/10\n",
            "235/235 [==============================] - 59s 251ms/step - loss: 0.1433 - accuracy: 0.9411\n"
          ]
        }
      ]
    },
    {
      "cell_type": "code",
      "source": [
        "# Results of dense ANN \n",
        "results = model.evaluate(test_tf.batch(512), verbose=2)\n",
        "\n",
        "for name, value in zip(model.metrics_names, results):\n",
        "  print(\"%s: %.3f\" % (name, value))"
      ],
      "metadata": {
        "colab": {
          "base_uri": "https://localhost:8080/"
        },
        "id": "4tKNG9WWHcmW",
        "outputId": "99878cfa-2acf-498e-edff-61a766bb89da"
      },
      "execution_count": null,
      "outputs": [
        {
          "output_type": "stream",
          "name": "stdout",
          "text": [
            "59/59 - 2s - loss: 0.3750 - accuracy: 0.8838 - 2s/epoch - 27ms/step\n",
            "loss: 0.375\n",
            "accuracy: 0.884\n"
          ]
        }
      ]
    },
    {
      "cell_type": "markdown",
      "source": [
        "# CNN"
      ],
      "metadata": {
        "id": "Wwq2ihhnHt1C"
      }
    },
    {
      "cell_type": "code",
      "source": [
        "model_CNN = tf.keras.Sequential()\n",
        "model_CNN.add(hub_layer)\n",
        "model_CNN.add(tf.keras.layers.Reshape((1,50)))\n",
        "model_CNN.add(Conv1D(filters=32, kernel_size=3, activation='relu', padding = 'same'))\n",
        "model_CNN.add(MaxPooling1D(pool_size=1))\n",
        "model_CNN.add(Flatten())\n",
        "model_CNN.add(Dense(10, activation='relu'))\n",
        "model_CNN.add(Dense(1, activation='sigmoid'))\n",
        "\n",
        "model_CNN.summary()"
      ],
      "metadata": {
        "colab": {
          "base_uri": "https://localhost:8080/"
        },
        "id": "NCjMeXDqHqdR",
        "outputId": "4c7bd238-9457-420d-8938-5fed6177b8bf"
      },
      "execution_count": null,
      "outputs": [
        {
          "output_type": "stream",
          "name": "stdout",
          "text": [
            "Model: \"sequential_1\"\n",
            "_________________________________________________________________\n",
            " Layer (type)                Output Shape              Param #   \n",
            "=================================================================\n",
            " keras_layer (KerasLayer)    (None, 50)                48190600  \n",
            "                                                                 \n",
            " reshape (Reshape)           (None, 1, 50)             0         \n",
            "                                                                 \n",
            " conv1d (Conv1D)             (None, 1, 32)             4832      \n",
            "                                                                 \n",
            " max_pooling1d (MaxPooling1D  (None, 1, 32)            0         \n",
            " )                                                               \n",
            "                                                                 \n",
            " flatten (Flatten)           (None, 32)                0         \n",
            "                                                                 \n",
            " dense_3 (Dense)             (None, 10)                330       \n",
            "                                                                 \n",
            " dense_4 (Dense)             (None, 1)                 11        \n",
            "                                                                 \n",
            "=================================================================\n",
            "Total params: 48,195,773\n",
            "Trainable params: 48,195,773\n",
            "Non-trainable params: 0\n",
            "_________________________________________________________________\n"
          ]
        }
      ]
    },
    {
      "cell_type": "code",
      "source": [
        "model_CNN.compile(optimizer='adam',\n",
        "              loss=tf.keras.losses.BinaryCrossentropy(from_logits=True),\n",
        "              metrics=['accuracy'])"
      ],
      "metadata": {
        "id": "7DQba-NJHj8H"
      },
      "execution_count": null,
      "outputs": []
    },
    {
      "cell_type": "code",
      "source": [
        "history_CNN = model_CNN.fit(train_tf.shuffle(10000).batch(512),\n",
        "                    epochs=10,\n",
        "                    #validation_data=validate_tf.batch(512),\n",
        "                    verbose=1)"
      ],
      "metadata": {
        "colab": {
          "base_uri": "https://localhost:8080/"
        },
        "id": "bqknC1cMHj4-",
        "outputId": "f48035eb-0658-42b5-a016-f9c278cddac0"
      },
      "execution_count": null,
      "outputs": [
        {
          "output_type": "stream",
          "name": "stdout",
          "text": [
            "Epoch 1/10\n"
          ]
        },
        {
          "output_type": "stream",
          "name": "stderr",
          "text": [
            "/usr/local/lib/python3.7/dist-packages/tensorflow/python/util/dispatch.py:1096: UserWarning: \"`binary_crossentropy` received `from_logits=True`, but the `output` argument was produced by a sigmoid or softmax activation and thus does not represent logits. Was this intended?\"\n",
            "  return dispatch_target(*args, **kwargs)\n"
          ]
        },
        {
          "output_type": "stream",
          "name": "stdout",
          "text": [
            "235/235 [==============================] - 59s 250ms/step - loss: 0.3127 - accuracy: 0.8817\n",
            "Epoch 2/10\n",
            "235/235 [==============================] - 59s 253ms/step - loss: 0.1948 - accuracy: 0.9240\n",
            "Epoch 3/10\n",
            "235/235 [==============================] - 59s 250ms/step - loss: 0.1739 - accuracy: 0.9315\n",
            "Epoch 4/10\n",
            "235/235 [==============================] - 59s 251ms/step - loss: 0.1555 - accuracy: 0.9389\n",
            "Epoch 5/10\n",
            "235/235 [==============================] - 58s 249ms/step - loss: 0.1403 - accuracy: 0.9462\n",
            "Epoch 6/10\n",
            "235/235 [==============================] - 59s 249ms/step - loss: 0.1276 - accuracy: 0.9519\n",
            "Epoch 7/10\n",
            "235/235 [==============================] - 59s 251ms/step - loss: 0.1162 - accuracy: 0.9570\n",
            "Epoch 8/10\n",
            "235/235 [==============================] - 58s 247ms/step - loss: 0.1065 - accuracy: 0.9611\n",
            "Epoch 9/10\n",
            "235/235 [==============================] - 58s 248ms/step - loss: 0.0974 - accuracy: 0.9651\n",
            "Epoch 10/10\n",
            "235/235 [==============================] - 58s 246ms/step - loss: 0.0894 - accuracy: 0.9682\n"
          ]
        }
      ]
    },
    {
      "cell_type": "code",
      "source": [
        "# Results of CNN \n",
        "results_CNN = model_CNN.evaluate(test_tf.batch(512), verbose=2)\n",
        "\n",
        "for name, value in zip(model_CNN.metrics_names, results_CNN):\n",
        "  print(\"%s: %.3f\" % (name, value))"
      ],
      "metadata": {
        "colab": {
          "base_uri": "https://localhost:8080/"
        },
        "id": "iQJFm83eHj2K",
        "outputId": "e0097c97-78ab-4805-c72d-75e54ddf6e19"
      },
      "execution_count": null,
      "outputs": [
        {
          "output_type": "stream",
          "name": "stderr",
          "text": [
            "/usr/local/lib/python3.7/dist-packages/tensorflow/python/util/dispatch.py:1096: UserWarning: \"`binary_crossentropy` received `from_logits=True`, but the `output` argument was produced by a sigmoid or softmax activation and thus does not represent logits. Was this intended?\"\n",
            "  return dispatch_target(*args, **kwargs)\n"
          ]
        },
        {
          "output_type": "stream",
          "name": "stdout",
          "text": [
            "59/59 - 2s - loss: 0.4939 - accuracy: 0.8752 - 2s/epoch - 28ms/step\n",
            "loss: 0.494\n",
            "accuracy: 0.875\n"
          ]
        }
      ]
    },
    {
      "cell_type": "markdown",
      "source": [
        "# RNN"
      ],
      "metadata": {
        "id": "yJLg3aN9H4fR"
      }
    },
    {
      "cell_type": "code",
      "source": [
        "model_RNN = tf.keras.Sequential()\n",
        "model_RNN.add(hub_layer)\n",
        "model_RNN.add(tf.keras.layers.Reshape((1,50)))\n",
        "model_RNN.add(tf.keras.layers.Bidirectional(tf.keras.layers.LSTM(64)))\n",
        "model_RNN.add(tf.keras.layers.Dense(64, activation='relu'))\n",
        "model_RNN.add(tf.keras.layers.Dropout(0.5))\n",
        "model_RNN.add(tf.keras.layers.Dense(1))\n",
        "model_RNN.summary()"
      ],
      "metadata": {
        "colab": {
          "base_uri": "https://localhost:8080/"
        },
        "id": "_5UkYZC9Hjzd",
        "outputId": "8940fbe6-102f-444b-aa8c-82fc42a43812"
      },
      "execution_count": null,
      "outputs": [
        {
          "output_type": "stream",
          "name": "stdout",
          "text": [
            "Model: \"sequential_2\"\n",
            "_________________________________________________________________\n",
            " Layer (type)                Output Shape              Param #   \n",
            "=================================================================\n",
            " keras_layer (KerasLayer)    (None, 50)                48190600  \n",
            "                                                                 \n",
            " reshape_1 (Reshape)         (None, 1, 50)             0         \n",
            "                                                                 \n",
            " bidirectional (Bidirectiona  (None, 128)              58880     \n",
            " l)                                                              \n",
            "                                                                 \n",
            " dense_5 (Dense)             (None, 64)                8256      \n",
            "                                                                 \n",
            " dropout_1 (Dropout)         (None, 64)                0         \n",
            "                                                                 \n",
            " dense_6 (Dense)             (None, 1)                 65        \n",
            "                                                                 \n",
            "=================================================================\n",
            "Total params: 48,257,801\n",
            "Trainable params: 48,257,801\n",
            "Non-trainable params: 0\n",
            "_________________________________________________________________\n"
          ]
        }
      ]
    },
    {
      "cell_type": "code",
      "source": [
        "model_RNN.compile(optimizer='adam',\n",
        "              loss=tf.keras.losses.BinaryCrossentropy(from_logits=True),\n",
        "              metrics=['accuracy'])"
      ],
      "metadata": {
        "id": "xZb1MS_SH-LC"
      },
      "execution_count": null,
      "outputs": []
    },
    {
      "cell_type": "code",
      "source": [
        "history_RNN = model_RNN.fit(train_tf.shuffle(10000).batch(512),\n",
        "                    epochs=10,\n",
        "                    #validation_data=validate_tf.batch(512),\n",
        "                    verbose=1)"
      ],
      "metadata": {
        "colab": {
          "base_uri": "https://localhost:8080/"
        },
        "id": "h6ch3eP3H-G7",
        "outputId": "84926b02-4056-4c2a-91d0-21e9f693509d"
      },
      "execution_count": null,
      "outputs": [
        {
          "output_type": "stream",
          "name": "stdout",
          "text": [
            "Epoch 1/10\n",
            "235/235 [==============================] - 66s 267ms/step - loss: 0.2559 - accuracy: 0.8800\n",
            "Epoch 2/10\n",
            "235/235 [==============================] - 63s 269ms/step - loss: 0.1646 - accuracy: 0.9282\n",
            "Epoch 3/10\n",
            "235/235 [==============================] - 63s 269ms/step - loss: 0.1420 - accuracy: 0.9366\n",
            "Epoch 4/10\n",
            "235/235 [==============================] - 62s 263ms/step - loss: 0.1240 - accuracy: 0.9468\n",
            "Epoch 5/10\n",
            "235/235 [==============================] - 66s 279ms/step - loss: 0.1100 - accuracy: 0.9542\n",
            "Epoch 6/10\n",
            "235/235 [==============================] - 67s 283ms/step - loss: 0.1003 - accuracy: 0.9589\n",
            "Epoch 7/10\n",
            "235/235 [==============================] - 63s 270ms/step - loss: 0.0916 - accuracy: 0.9635\n",
            "Epoch 8/10\n",
            "235/235 [==============================] - 86s 368ms/step - loss: 0.0859 - accuracy: 0.9662\n",
            "Epoch 9/10\n",
            "235/235 [==============================] - 63s 268ms/step - loss: 0.0812 - accuracy: 0.9682\n",
            "Epoch 10/10\n",
            "235/235 [==============================] - 65s 278ms/step - loss: 0.0759 - accuracy: 0.9708\n"
          ]
        }
      ]
    },
    {
      "cell_type": "code",
      "source": [
        "# Résultats du RNN\n",
        "results_RNN = model.evaluate(test_tf.batch(512), verbose=2)\n",
        "\n",
        "for name, value in zip(model_RNN.metrics_names, results_RNN):\n",
        "  print(\"%s: %.3f\" % (name, value))"
      ],
      "metadata": {
        "colab": {
          "base_uri": "https://localhost:8080/"
        },
        "id": "zaO7544YH-EN",
        "outputId": "3e610a50-5d3e-4200-d793-8d6def527d67"
      },
      "execution_count": null,
      "outputs": [
        {
          "output_type": "stream",
          "name": "stdout",
          "text": [
            "59/59 - 2s - loss: 0.6637 - accuracy: 0.8746 - 2s/epoch - 26ms/step\n",
            "loss: 0.664\n",
            "accuracy: 0.875\n"
          ]
        }
      ]
    },
    {
      "cell_type": "code",
      "source": [
        "from google.colab import drive\n",
        "drive.mount('/content/drive')"
      ],
      "metadata": {
        "colab": {
          "base_uri": "https://localhost:8080/"
        },
        "id": "oK5f7iw3KhkZ",
        "outputId": "724b95c2-5308-4e62-8ecc-87a3b5adb56b"
      },
      "execution_count": null,
      "outputs": [
        {
          "output_type": "stream",
          "name": "stdout",
          "text": [
            "Mounted at /content/drive\n"
          ]
        }
      ]
    },
    {
      "cell_type": "markdown",
      "source": [
        "# Projection on the Twitter database of commercial airlines tweets\n"
      ],
      "metadata": {
        "id": "ZBjhbH3mXjA7"
      }
    },
    {
      "cell_type": "code",
      "source": [
        "tweet = pd.read_csv('/content/drive/MyDrive/Tweets.csv')\n",
        "tweet.head()"
      ],
      "metadata": {
        "colab": {
          "base_uri": "https://localhost:8080/",
          "height": 496
        },
        "id": "4CxoEsY7VuZ4",
        "outputId": "cfe04426-66e6-4ff8-bae1-980985568c70"
      },
      "execution_count": null,
      "outputs": [
        {
          "output_type": "execute_result",
          "data": {
            "text/html": [
              "\n",
              "  <div id=\"df-f1d2c4f7-1a92-4cd6-aea8-5369e6e9597b\">\n",
              "    <div class=\"colab-df-container\">\n",
              "      <div>\n",
              "<style scoped>\n",
              "    .dataframe tbody tr th:only-of-type {\n",
              "        vertical-align: middle;\n",
              "    }\n",
              "\n",
              "    .dataframe tbody tr th {\n",
              "        vertical-align: top;\n",
              "    }\n",
              "\n",
              "    .dataframe thead th {\n",
              "        text-align: right;\n",
              "    }\n",
              "</style>\n",
              "<table border=\"1\" class=\"dataframe\">\n",
              "  <thead>\n",
              "    <tr style=\"text-align: right;\">\n",
              "      <th></th>\n",
              "      <th>tweet_id</th>\n",
              "      <th>airline_sentiment</th>\n",
              "      <th>airline_sentiment_confidence</th>\n",
              "      <th>negativereason</th>\n",
              "      <th>negativereason_confidence</th>\n",
              "      <th>airline</th>\n",
              "      <th>airline_sentiment_gold</th>\n",
              "      <th>name</th>\n",
              "      <th>negativereason_gold</th>\n",
              "      <th>retweet_count</th>\n",
              "      <th>text</th>\n",
              "      <th>tweet_coord</th>\n",
              "      <th>tweet_created</th>\n",
              "      <th>tweet_location</th>\n",
              "      <th>user_timezone</th>\n",
              "    </tr>\n",
              "  </thead>\n",
              "  <tbody>\n",
              "    <tr>\n",
              "      <th>0</th>\n",
              "      <td>570306133677760513</td>\n",
              "      <td>neutral</td>\n",
              "      <td>1.0000</td>\n",
              "      <td>NaN</td>\n",
              "      <td>NaN</td>\n",
              "      <td>Virgin America</td>\n",
              "      <td>NaN</td>\n",
              "      <td>cairdin</td>\n",
              "      <td>NaN</td>\n",
              "      <td>0</td>\n",
              "      <td>@VirginAmerica What @dhepburn said.</td>\n",
              "      <td>NaN</td>\n",
              "      <td>2015-02-24 11:35:52 -0800</td>\n",
              "      <td>NaN</td>\n",
              "      <td>Eastern Time (US &amp; Canada)</td>\n",
              "    </tr>\n",
              "    <tr>\n",
              "      <th>1</th>\n",
              "      <td>570301130888122368</td>\n",
              "      <td>positive</td>\n",
              "      <td>0.3486</td>\n",
              "      <td>NaN</td>\n",
              "      <td>0.0000</td>\n",
              "      <td>Virgin America</td>\n",
              "      <td>NaN</td>\n",
              "      <td>jnardino</td>\n",
              "      <td>NaN</td>\n",
              "      <td>0</td>\n",
              "      <td>@VirginAmerica plus you've added commercials t...</td>\n",
              "      <td>NaN</td>\n",
              "      <td>2015-02-24 11:15:59 -0800</td>\n",
              "      <td>NaN</td>\n",
              "      <td>Pacific Time (US &amp; Canada)</td>\n",
              "    </tr>\n",
              "    <tr>\n",
              "      <th>2</th>\n",
              "      <td>570301083672813571</td>\n",
              "      <td>neutral</td>\n",
              "      <td>0.6837</td>\n",
              "      <td>NaN</td>\n",
              "      <td>NaN</td>\n",
              "      <td>Virgin America</td>\n",
              "      <td>NaN</td>\n",
              "      <td>yvonnalynn</td>\n",
              "      <td>NaN</td>\n",
              "      <td>0</td>\n",
              "      <td>@VirginAmerica I didn't today... Must mean I n...</td>\n",
              "      <td>NaN</td>\n",
              "      <td>2015-02-24 11:15:48 -0800</td>\n",
              "      <td>Lets Play</td>\n",
              "      <td>Central Time (US &amp; Canada)</td>\n",
              "    </tr>\n",
              "    <tr>\n",
              "      <th>3</th>\n",
              "      <td>570301031407624196</td>\n",
              "      <td>negative</td>\n",
              "      <td>1.0000</td>\n",
              "      <td>Bad Flight</td>\n",
              "      <td>0.7033</td>\n",
              "      <td>Virgin America</td>\n",
              "      <td>NaN</td>\n",
              "      <td>jnardino</td>\n",
              "      <td>NaN</td>\n",
              "      <td>0</td>\n",
              "      <td>@VirginAmerica it's really aggressive to blast...</td>\n",
              "      <td>NaN</td>\n",
              "      <td>2015-02-24 11:15:36 -0800</td>\n",
              "      <td>NaN</td>\n",
              "      <td>Pacific Time (US &amp; Canada)</td>\n",
              "    </tr>\n",
              "    <tr>\n",
              "      <th>4</th>\n",
              "      <td>570300817074462722</td>\n",
              "      <td>negative</td>\n",
              "      <td>1.0000</td>\n",
              "      <td>Can't Tell</td>\n",
              "      <td>1.0000</td>\n",
              "      <td>Virgin America</td>\n",
              "      <td>NaN</td>\n",
              "      <td>jnardino</td>\n",
              "      <td>NaN</td>\n",
              "      <td>0</td>\n",
              "      <td>@VirginAmerica and it's a really big bad thing...</td>\n",
              "      <td>NaN</td>\n",
              "      <td>2015-02-24 11:14:45 -0800</td>\n",
              "      <td>NaN</td>\n",
              "      <td>Pacific Time (US &amp; Canada)</td>\n",
              "    </tr>\n",
              "  </tbody>\n",
              "</table>\n",
              "</div>\n",
              "      <button class=\"colab-df-convert\" onclick=\"convertToInteractive('df-f1d2c4f7-1a92-4cd6-aea8-5369e6e9597b')\"\n",
              "              title=\"Convert this dataframe to an interactive table.\"\n",
              "              style=\"display:none;\">\n",
              "        \n",
              "  <svg xmlns=\"http://www.w3.org/2000/svg\" height=\"24px\"viewBox=\"0 0 24 24\"\n",
              "       width=\"24px\">\n",
              "    <path d=\"M0 0h24v24H0V0z\" fill=\"none\"/>\n",
              "    <path d=\"M18.56 5.44l.94 2.06.94-2.06 2.06-.94-2.06-.94-.94-2.06-.94 2.06-2.06.94zm-11 1L8.5 8.5l.94-2.06 2.06-.94-2.06-.94L8.5 2.5l-.94 2.06-2.06.94zm10 10l.94 2.06.94-2.06 2.06-.94-2.06-.94-.94-2.06-.94 2.06-2.06.94z\"/><path d=\"M17.41 7.96l-1.37-1.37c-.4-.4-.92-.59-1.43-.59-.52 0-1.04.2-1.43.59L10.3 9.45l-7.72 7.72c-.78.78-.78 2.05 0 2.83L4 21.41c.39.39.9.59 1.41.59.51 0 1.02-.2 1.41-.59l7.78-7.78 2.81-2.81c.8-.78.8-2.07 0-2.86zM5.41 20L4 18.59l7.72-7.72 1.47 1.35L5.41 20z\"/>\n",
              "  </svg>\n",
              "      </button>\n",
              "      \n",
              "  <style>\n",
              "    .colab-df-container {\n",
              "      display:flex;\n",
              "      flex-wrap:wrap;\n",
              "      gap: 12px;\n",
              "    }\n",
              "\n",
              "    .colab-df-convert {\n",
              "      background-color: #E8F0FE;\n",
              "      border: none;\n",
              "      border-radius: 50%;\n",
              "      cursor: pointer;\n",
              "      display: none;\n",
              "      fill: #1967D2;\n",
              "      height: 32px;\n",
              "      padding: 0 0 0 0;\n",
              "      width: 32px;\n",
              "    }\n",
              "\n",
              "    .colab-df-convert:hover {\n",
              "      background-color: #E2EBFA;\n",
              "      box-shadow: 0px 1px 2px rgba(60, 64, 67, 0.3), 0px 1px 3px 1px rgba(60, 64, 67, 0.15);\n",
              "      fill: #174EA6;\n",
              "    }\n",
              "\n",
              "    [theme=dark] .colab-df-convert {\n",
              "      background-color: #3B4455;\n",
              "      fill: #D2E3FC;\n",
              "    }\n",
              "\n",
              "    [theme=dark] .colab-df-convert:hover {\n",
              "      background-color: #434B5C;\n",
              "      box-shadow: 0px 1px 3px 1px rgba(0, 0, 0, 0.15);\n",
              "      filter: drop-shadow(0px 1px 2px rgba(0, 0, 0, 0.3));\n",
              "      fill: #FFFFFF;\n",
              "    }\n",
              "  </style>\n",
              "\n",
              "      <script>\n",
              "        const buttonEl =\n",
              "          document.querySelector('#df-f1d2c4f7-1a92-4cd6-aea8-5369e6e9597b button.colab-df-convert');\n",
              "        buttonEl.style.display =\n",
              "          google.colab.kernel.accessAllowed ? 'block' : 'none';\n",
              "\n",
              "        async function convertToInteractive(key) {\n",
              "          const element = document.querySelector('#df-f1d2c4f7-1a92-4cd6-aea8-5369e6e9597b');\n",
              "          const dataTable =\n",
              "            await google.colab.kernel.invokeFunction('convertToInteractive',\n",
              "                                                     [key], {});\n",
              "          if (!dataTable) return;\n",
              "\n",
              "          const docLinkHtml = 'Like what you see? Visit the ' +\n",
              "            '<a target=\"_blank\" href=https://colab.research.google.com/notebooks/data_table.ipynb>data table notebook</a>'\n",
              "            + ' to learn more about interactive tables.';\n",
              "          element.innerHTML = '';\n",
              "          dataTable['output_type'] = 'display_data';\n",
              "          await google.colab.output.renderOutput(dataTable, element);\n",
              "          const docLink = document.createElement('div');\n",
              "          docLink.innerHTML = docLinkHtml;\n",
              "          element.appendChild(docLink);\n",
              "        }\n",
              "      </script>\n",
              "    </div>\n",
              "  </div>\n",
              "  "
            ],
            "text/plain": [
              "             tweet_id  ...               user_timezone\n",
              "0  570306133677760513  ...  Eastern Time (US & Canada)\n",
              "1  570301130888122368  ...  Pacific Time (US & Canada)\n",
              "2  570301083672813571  ...  Central Time (US & Canada)\n",
              "3  570301031407624196  ...  Pacific Time (US & Canada)\n",
              "4  570300817074462722  ...  Pacific Time (US & Canada)\n",
              "\n",
              "[5 rows x 15 columns]"
            ]
          },
          "metadata": {},
          "execution_count": 47
        }
      ]
    },
    {
      "cell_type": "code",
      "source": [
        "df2 = tweet[['airline_sentiment','text']]\n",
        "df2.head()"
      ],
      "metadata": {
        "colab": {
          "base_uri": "https://localhost:8080/",
          "height": 206
        },
        "id": "EJ9-tuR6XiCw",
        "outputId": "f18e5479-a305-4876-a717-561e88ec3991"
      },
      "execution_count": null,
      "outputs": [
        {
          "output_type": "execute_result",
          "data": {
            "text/html": [
              "\n",
              "  <div id=\"df-bd3d2697-49e3-4a88-868d-49c685d3b62f\">\n",
              "    <div class=\"colab-df-container\">\n",
              "      <div>\n",
              "<style scoped>\n",
              "    .dataframe tbody tr th:only-of-type {\n",
              "        vertical-align: middle;\n",
              "    }\n",
              "\n",
              "    .dataframe tbody tr th {\n",
              "        vertical-align: top;\n",
              "    }\n",
              "\n",
              "    .dataframe thead th {\n",
              "        text-align: right;\n",
              "    }\n",
              "</style>\n",
              "<table border=\"1\" class=\"dataframe\">\n",
              "  <thead>\n",
              "    <tr style=\"text-align: right;\">\n",
              "      <th></th>\n",
              "      <th>airline_sentiment</th>\n",
              "      <th>text</th>\n",
              "    </tr>\n",
              "  </thead>\n",
              "  <tbody>\n",
              "    <tr>\n",
              "      <th>0</th>\n",
              "      <td>neutral</td>\n",
              "      <td>@VirginAmerica What @dhepburn said.</td>\n",
              "    </tr>\n",
              "    <tr>\n",
              "      <th>1</th>\n",
              "      <td>positive</td>\n",
              "      <td>@VirginAmerica plus you've added commercials t...</td>\n",
              "    </tr>\n",
              "    <tr>\n",
              "      <th>2</th>\n",
              "      <td>neutral</td>\n",
              "      <td>@VirginAmerica I didn't today... Must mean I n...</td>\n",
              "    </tr>\n",
              "    <tr>\n",
              "      <th>3</th>\n",
              "      <td>negative</td>\n",
              "      <td>@VirginAmerica it's really aggressive to blast...</td>\n",
              "    </tr>\n",
              "    <tr>\n",
              "      <th>4</th>\n",
              "      <td>negative</td>\n",
              "      <td>@VirginAmerica and it's a really big bad thing...</td>\n",
              "    </tr>\n",
              "  </tbody>\n",
              "</table>\n",
              "</div>\n",
              "      <button class=\"colab-df-convert\" onclick=\"convertToInteractive('df-bd3d2697-49e3-4a88-868d-49c685d3b62f')\"\n",
              "              title=\"Convert this dataframe to an interactive table.\"\n",
              "              style=\"display:none;\">\n",
              "        \n",
              "  <svg xmlns=\"http://www.w3.org/2000/svg\" height=\"24px\"viewBox=\"0 0 24 24\"\n",
              "       width=\"24px\">\n",
              "    <path d=\"M0 0h24v24H0V0z\" fill=\"none\"/>\n",
              "    <path d=\"M18.56 5.44l.94 2.06.94-2.06 2.06-.94-2.06-.94-.94-2.06-.94 2.06-2.06.94zm-11 1L8.5 8.5l.94-2.06 2.06-.94-2.06-.94L8.5 2.5l-.94 2.06-2.06.94zm10 10l.94 2.06.94-2.06 2.06-.94-2.06-.94-.94-2.06-.94 2.06-2.06.94z\"/><path d=\"M17.41 7.96l-1.37-1.37c-.4-.4-.92-.59-1.43-.59-.52 0-1.04.2-1.43.59L10.3 9.45l-7.72 7.72c-.78.78-.78 2.05 0 2.83L4 21.41c.39.39.9.59 1.41.59.51 0 1.02-.2 1.41-.59l7.78-7.78 2.81-2.81c.8-.78.8-2.07 0-2.86zM5.41 20L4 18.59l7.72-7.72 1.47 1.35L5.41 20z\"/>\n",
              "  </svg>\n",
              "      </button>\n",
              "      \n",
              "  <style>\n",
              "    .colab-df-container {\n",
              "      display:flex;\n",
              "      flex-wrap:wrap;\n",
              "      gap: 12px;\n",
              "    }\n",
              "\n",
              "    .colab-df-convert {\n",
              "      background-color: #E8F0FE;\n",
              "      border: none;\n",
              "      border-radius: 50%;\n",
              "      cursor: pointer;\n",
              "      display: none;\n",
              "      fill: #1967D2;\n",
              "      height: 32px;\n",
              "      padding: 0 0 0 0;\n",
              "      width: 32px;\n",
              "    }\n",
              "\n",
              "    .colab-df-convert:hover {\n",
              "      background-color: #E2EBFA;\n",
              "      box-shadow: 0px 1px 2px rgba(60, 64, 67, 0.3), 0px 1px 3px 1px rgba(60, 64, 67, 0.15);\n",
              "      fill: #174EA6;\n",
              "    }\n",
              "\n",
              "    [theme=dark] .colab-df-convert {\n",
              "      background-color: #3B4455;\n",
              "      fill: #D2E3FC;\n",
              "    }\n",
              "\n",
              "    [theme=dark] .colab-df-convert:hover {\n",
              "      background-color: #434B5C;\n",
              "      box-shadow: 0px 1px 3px 1px rgba(0, 0, 0, 0.15);\n",
              "      filter: drop-shadow(0px 1px 2px rgba(0, 0, 0, 0.3));\n",
              "      fill: #FFFFFF;\n",
              "    }\n",
              "  </style>\n",
              "\n",
              "      <script>\n",
              "        const buttonEl =\n",
              "          document.querySelector('#df-bd3d2697-49e3-4a88-868d-49c685d3b62f button.colab-df-convert');\n",
              "        buttonEl.style.display =\n",
              "          google.colab.kernel.accessAllowed ? 'block' : 'none';\n",
              "\n",
              "        async function convertToInteractive(key) {\n",
              "          const element = document.querySelector('#df-bd3d2697-49e3-4a88-868d-49c685d3b62f');\n",
              "          const dataTable =\n",
              "            await google.colab.kernel.invokeFunction('convertToInteractive',\n",
              "                                                     [key], {});\n",
              "          if (!dataTable) return;\n",
              "\n",
              "          const docLinkHtml = 'Like what you see? Visit the ' +\n",
              "            '<a target=\"_blank\" href=https://colab.research.google.com/notebooks/data_table.ipynb>data table notebook</a>'\n",
              "            + ' to learn more about interactive tables.';\n",
              "          element.innerHTML = '';\n",
              "          dataTable['output_type'] = 'display_data';\n",
              "          await google.colab.output.renderOutput(dataTable, element);\n",
              "          const docLink = document.createElement('div');\n",
              "          docLink.innerHTML = docLinkHtml;\n",
              "          element.appendChild(docLink);\n",
              "        }\n",
              "      </script>\n",
              "    </div>\n",
              "  </div>\n",
              "  "
            ],
            "text/plain": [
              "  airline_sentiment                                               text\n",
              "0           neutral                @VirginAmerica What @dhepburn said.\n",
              "1          positive  @VirginAmerica plus you've added commercials t...\n",
              "2           neutral  @VirginAmerica I didn't today... Must mean I n...\n",
              "3          negative  @VirginAmerica it's really aggressive to blast...\n",
              "4          negative  @VirginAmerica and it's a really big bad thing..."
            ]
          },
          "metadata": {},
          "execution_count": 48
        }
      ]
    },
    {
      "cell_type": "code",
      "source": [
        "df2['airline_sentiment'] = df2['airline_sentiment'].str.replace('positive', 'Good')"
      ],
      "metadata": {
        "id": "iF01GleQaXLF",
        "colab": {
          "base_uri": "https://localhost:8080/"
        },
        "outputId": "6b0d611e-23ca-4115-e449-82f4740ee4be"
      },
      "execution_count": null,
      "outputs": [
        {
          "output_type": "stream",
          "name": "stderr",
          "text": [
            "/usr/local/lib/python3.7/dist-packages/ipykernel_launcher.py:1: SettingWithCopyWarning: \n",
            "A value is trying to be set on a copy of a slice from a DataFrame.\n",
            "Try using .loc[row_indexer,col_indexer] = value instead\n",
            "\n",
            "See the caveats in the documentation: https://pandas.pydata.org/pandas-docs/stable/user_guide/indexing.html#returning-a-view-versus-a-copy\n",
            "  \"\"\"Entry point for launching an IPython kernel.\n"
          ]
        }
      ]
    },
    {
      "cell_type": "code",
      "source": [
        "df2['airline_sentiment'] = df2['airline_sentiment'].str.replace('negative', 'Bad')"
      ],
      "metadata": {
        "id": "pVzlSxqdaL6P",
        "colab": {
          "base_uri": "https://localhost:8080/"
        },
        "outputId": "2e829acf-3cde-47d2-8dd5-1be7b1d038f6"
      },
      "execution_count": null,
      "outputs": [
        {
          "output_type": "stream",
          "name": "stderr",
          "text": [
            "/usr/local/lib/python3.7/dist-packages/ipykernel_launcher.py:1: SettingWithCopyWarning: \n",
            "A value is trying to be set on a copy of a slice from a DataFrame.\n",
            "Try using .loc[row_indexer,col_indexer] = value instead\n",
            "\n",
            "See the caveats in the documentation: https://pandas.pydata.org/pandas-docs/stable/user_guide/indexing.html#returning-a-view-versus-a-copy\n",
            "  \"\"\"Entry point for launching an IPython kernel.\n"
          ]
        }
      ]
    },
    {
      "cell_type": "code",
      "source": [
        "df2['airline_sentiment'] = df2['airline_sentiment'].str.replace('neutral', 'Neutral')"
      ],
      "metadata": {
        "colab": {
          "base_uri": "https://localhost:8080/"
        },
        "id": "FoPJhTafm6BF",
        "outputId": "c202d87c-73d4-4cd3-cc13-81fb1808b2ab"
      },
      "execution_count": null,
      "outputs": [
        {
          "output_type": "stream",
          "name": "stderr",
          "text": [
            "/usr/local/lib/python3.7/dist-packages/ipykernel_launcher.py:1: SettingWithCopyWarning: \n",
            "A value is trying to be set on a copy of a slice from a DataFrame.\n",
            "Try using .loc[row_indexer,col_indexer] = value instead\n",
            "\n",
            "See the caveats in the documentation: https://pandas.pydata.org/pandas-docs/stable/user_guide/indexing.html#returning-a-view-versus-a-copy\n",
            "  \"\"\"Entry point for launching an IPython kernel.\n"
          ]
        }
      ]
    },
    {
      "cell_type": "code",
      "source": [
        "len(df2)"
      ],
      "metadata": {
        "colab": {
          "base_uri": "https://localhost:8080/"
        },
        "id": "HkrK2NyOXzAH",
        "outputId": "3e5bf129-f2ff-4dcd-fdb6-a08a6a55970e"
      },
      "execution_count": null,
      "outputs": [
        {
          "output_type": "execute_result",
          "data": {
            "text/plain": [
              "14640"
            ]
          },
          "metadata": {},
          "execution_count": 91
        }
      ]
    },
    {
      "cell_type": "code",
      "source": [
        "my_explode=(0,0,0.2)\n",
        "my_colors=['lightgreen','lightblue','lightgrey']\n",
        "df2['airline_sentiment'].value_counts().plot.pie(title = \"Sentiments distribution\", autopct='%1.2f%%', \n",
        "                                               startangle = 90, colors = my_colors, explode = my_explode, \n",
        "                                               figsize = (5,5), fontsize = 10)"
      ],
      "metadata": {
        "colab": {
          "base_uri": "https://localhost:8080/",
          "height": 336
        },
        "id": "wIxglJsUnB79",
        "outputId": "bc69ed70-39e7-40f5-a6a8-507364d231f0"
      },
      "execution_count": null,
      "outputs": [
        {
          "output_type": "execute_result",
          "data": {
            "text/plain": [
              "<matplotlib.axes._subplots.AxesSubplot at 0x7fdc3368ad50>"
            ]
          },
          "metadata": {},
          "execution_count": 59
        },
        {
          "output_type": "display_data",
          "data": {
            "image/png": "[encoded data removed]",
            "text/plain": [
              "<Figure size 360x360 with 1 Axes>"
            ]
          },
          "metadata": {}
        }
      ]
    },
    {
      "cell_type": "code",
      "source": [
        "df2 = df2[df2.airline_sentiment != \"Neutral\"]"
      ],
      "metadata": {
        "id": "2q9fflHTYYYT"
      },
      "execution_count": null,
      "outputs": []
    },
    {
      "cell_type": "code",
      "source": [
        "df2 = df2.dropna()"
      ],
      "metadata": {
        "id": "0eb896k8Yd_O"
      },
      "execution_count": null,
      "outputs": []
    },
    {
      "cell_type": "code",
      "source": [
        "def remover(phrase, character_list):\n",
        "\n",
        "    words = phrase.split()\n",
        "\n",
        "    for word in words:\n",
        "        if any(character in word for character in character_list):\n",
        "            \n",
        "            words.remove(word)\n",
        "\n",
        "    new_phrase = ' '.join(words)\n",
        "\n",
        "    return new_phrase"
      ],
      "metadata": {
        "id": "uhch5R6VYmKn"
      },
      "execution_count": null,
      "outputs": []
    },
    {
      "cell_type": "code",
      "source": [
        "df2['reviewText'] = df2['text'].apply(lambda x: remover(x, ['@', '#','http']))"
      ],
      "metadata": {
        "id": "Wb_UVw8rYxSo"
      },
      "execution_count": null,
      "outputs": []
    },
    {
      "cell_type": "code",
      "source": [
        "df2.head()"
      ],
      "metadata": {
        "colab": {
          "base_uri": "https://localhost:8080/",
          "height": 206
        },
        "id": "uvW7gU0tY6Nl",
        "outputId": "deddb83b-3b73-4538-95cf-5a87b0e5e3a8"
      },
      "execution_count": null,
      "outputs": [
        {
          "output_type": "execute_result",
          "data": {
            "text/html": [
              "<div>\n",
              "<style scoped>\n",
              "    .dataframe tbody tr th:only-of-type {\n",
              "        vertical-align: middle;\n",
              "    }\n",
              "\n",
              "    .dataframe tbody tr th {\n",
              "        vertical-align: top;\n",
              "    }\n",
              "\n",
              "    .dataframe thead th {\n",
              "        text-align: right;\n",
              "    }\n",
              "</style>\n",
              "<table border=\"1\" class=\"dataframe\">\n",
              "  <thead>\n",
              "    <tr style=\"text-align: right;\">\n",
              "      <th></th>\n",
              "      <th>airline_sentiment</th>\n",
              "      <th>text</th>\n",
              "      <th>reviewText</th>\n",
              "    </tr>\n",
              "  </thead>\n",
              "  <tbody>\n",
              "    <tr>\n",
              "      <th>1</th>\n",
              "      <td>Good</td>\n",
              "      <td>@VirginAmerica plus you've added commercials t...</td>\n",
              "      <td>plus you've added commercials to the experienc...</td>\n",
              "    </tr>\n",
              "    <tr>\n",
              "      <th>3</th>\n",
              "      <td>Bad</td>\n",
              "      <td>@VirginAmerica it's really aggressive to blast...</td>\n",
              "      <td>it's really aggressive to blast obnoxious \"ent...</td>\n",
              "    </tr>\n",
              "    <tr>\n",
              "      <th>4</th>\n",
              "      <td>Bad</td>\n",
              "      <td>@VirginAmerica and it's a really big bad thing...</td>\n",
              "      <td>and it's a really big bad thing about it</td>\n",
              "    </tr>\n",
              "    <tr>\n",
              "      <th>5</th>\n",
              "      <td>Bad</td>\n",
              "      <td>@VirginAmerica seriously would pay $30 a fligh...</td>\n",
              "      <td>seriously would pay $30 a flight for seats tha...</td>\n",
              "    </tr>\n",
              "    <tr>\n",
              "      <th>6</th>\n",
              "      <td>Good</td>\n",
              "      <td>@VirginAmerica yes, nearly every time I fly VX...</td>\n",
              "      <td>yes, nearly every time I fly VX this “ear worm...</td>\n",
              "    </tr>\n",
              "  </tbody>\n",
              "</table>\n",
              "</div>"
            ],
            "text/plain": [
              "  airline_sentiment  ...                                         reviewText\n",
              "1              Good  ...  plus you've added commercials to the experienc...\n",
              "3               Bad  ...  it's really aggressive to blast obnoxious \"ent...\n",
              "4               Bad  ...           and it's a really big bad thing about it\n",
              "5               Bad  ...  seriously would pay $30 a flight for seats tha...\n",
              "6              Good  ...  yes, nearly every time I fly VX this “ear worm...\n",
              "\n",
              "[5 rows x 3 columns]"
            ]
          },
          "metadata": {},
          "execution_count": 64
        }
      ]
    },
    {
      "cell_type": "code",
      "source": [
        "df2 = ReviewProcessing(df2)"
      ],
      "metadata": {
        "id": "lWjR6-y-Y7Ne"
      },
      "execution_count": null,
      "outputs": []
    },
    {
      "cell_type": "code",
      "source": [
        "df2.head()"
      ],
      "metadata": {
        "colab": {
          "base_uri": "https://localhost:8080/",
          "height": 206
        },
        "id": "Yro4MiF2ZTLV",
        "outputId": "81d9172f-01e6-44e4-9ad1-3427dda8fd88"
      },
      "execution_count": null,
      "outputs": [
        {
          "output_type": "execute_result",
          "data": {
            "text/html": [
              "<div>\n",
              "<style scoped>\n",
              "    .dataframe tbody tr th:only-of-type {\n",
              "        vertical-align: middle;\n",
              "    }\n",
              "\n",
              "    .dataframe tbody tr th {\n",
              "        vertical-align: top;\n",
              "    }\n",
              "\n",
              "    .dataframe thead th {\n",
              "        text-align: right;\n",
              "    }\n",
              "</style>\n",
              "<table border=\"1\" class=\"dataframe\">\n",
              "  <thead>\n",
              "    <tr style=\"text-align: right;\">\n",
              "      <th></th>\n",
              "      <th>airline_sentiment</th>\n",
              "      <th>text</th>\n",
              "      <th>reviewText</th>\n",
              "      <th>review_cleaned</th>\n",
              "    </tr>\n",
              "  </thead>\n",
              "  <tbody>\n",
              "    <tr>\n",
              "      <th>1</th>\n",
              "      <td>Good</td>\n",
              "      <td>@VirginAmerica plus you've added commercials t...</td>\n",
              "      <td>plus you've added commercials to the experienc...</td>\n",
              "      <td>[plus, youve, added, commercials, experience, ...</td>\n",
              "    </tr>\n",
              "    <tr>\n",
              "      <th>3</th>\n",
              "      <td>Bad</td>\n",
              "      <td>@VirginAmerica it's really aggressive to blast...</td>\n",
              "      <td>it's really aggressive to blast obnoxious \"ent...</td>\n",
              "      <td>[really, aggressive, blast, obnoxious, enterta...</td>\n",
              "    </tr>\n",
              "    <tr>\n",
              "      <th>4</th>\n",
              "      <td>Bad</td>\n",
              "      <td>@VirginAmerica and it's a really big bad thing...</td>\n",
              "      <td>and it's a really big bad thing about it</td>\n",
              "      <td>[really, big, bad, thing]</td>\n",
              "    </tr>\n",
              "    <tr>\n",
              "      <th>5</th>\n",
              "      <td>Bad</td>\n",
              "      <td>@VirginAmerica seriously would pay $30 a fligh...</td>\n",
              "      <td>seriously would pay $30 a flight for seats tha...</td>\n",
              "      <td>[seriously, would, pay, 30, flight, seats, did...</td>\n",
              "    </tr>\n",
              "    <tr>\n",
              "      <th>6</th>\n",
              "      <td>Good</td>\n",
              "      <td>@VirginAmerica yes, nearly every time I fly VX...</td>\n",
              "      <td>yes, nearly every time I fly VX this “ear worm...</td>\n",
              "      <td>[yes, nearly, every, time, fly, vx, ear, worm,...</td>\n",
              "    </tr>\n",
              "  </tbody>\n",
              "</table>\n",
              "</div>"
            ],
            "text/plain": [
              "  airline_sentiment  ...                                     review_cleaned\n",
              "1              Good  ...  [plus, youve, added, commercials, experience, ...\n",
              "3               Bad  ...  [really, aggressive, blast, obnoxious, enterta...\n",
              "4               Bad  ...                          [really, big, bad, thing]\n",
              "5               Bad  ...  [seriously, would, pay, 30, flight, seats, did...\n",
              "6              Good  ...  [yes, nearly, every, time, fly, vx, ear, worm,...\n",
              "\n",
              "[5 rows x 4 columns]"
            ]
          },
          "metadata": {},
          "execution_count": 66
        }
      ]
    },
    {
      "cell_type": "code",
      "source": [
        "%%time\n",
        "df2.review_cleaned = df2.review_cleaned.apply(' '.join)\n",
        "df2['review_cleaned_lemmatized'] = df2.review_cleaned.apply(get_lemmatize)"
      ],
      "metadata": {
        "colab": {
          "base_uri": "https://localhost:8080/"
        },
        "id": "CmO7L0PIZIxM",
        "outputId": "ca18c99c-c989-4a7e-a64d-d769da225ba2"
      },
      "execution_count": null,
      "outputs": [
        {
          "output_type": "stream",
          "name": "stdout",
          "text": [
            "CPU times: user 17.2 s, sys: 780 ms, total: 18 s\n",
            "Wall time: 17.9 s\n"
          ]
        }
      ]
    },
    {
      "cell_type": "code",
      "source": [
        "df2.head()"
      ],
      "metadata": {
        "colab": {
          "base_uri": "https://localhost:8080/",
          "height": 275
        },
        "id": "EYLch_I4ZXcW",
        "outputId": "7b0ad897-b785-4bb7-eda3-6dbe3527124d"
      },
      "execution_count": null,
      "outputs": [
        {
          "output_type": "execute_result",
          "data": {
            "text/html": [
              "<div>\n",
              "<style scoped>\n",
              "    .dataframe tbody tr th:only-of-type {\n",
              "        vertical-align: middle;\n",
              "    }\n",
              "\n",
              "    .dataframe tbody tr th {\n",
              "        vertical-align: top;\n",
              "    }\n",
              "\n",
              "    .dataframe thead th {\n",
              "        text-align: right;\n",
              "    }\n",
              "</style>\n",
              "<table border=\"1\" class=\"dataframe\">\n",
              "  <thead>\n",
              "    <tr style=\"text-align: right;\">\n",
              "      <th></th>\n",
              "      <th>airline_sentiment</th>\n",
              "      <th>text</th>\n",
              "      <th>reviewText</th>\n",
              "      <th>review_cleaned</th>\n",
              "      <th>review_cleaned_lemmatized</th>\n",
              "    </tr>\n",
              "  </thead>\n",
              "  <tbody>\n",
              "    <tr>\n",
              "      <th>1</th>\n",
              "      <td>Good</td>\n",
              "      <td>@VirginAmerica plus you've added commercials t...</td>\n",
              "      <td>plus you've added commercials to the experienc...</td>\n",
              "      <td>plus youve added commercials experience tacky</td>\n",
              "      <td>plus youve add commercial experience tacky</td>\n",
              "    </tr>\n",
              "    <tr>\n",
              "      <th>3</th>\n",
              "      <td>Bad</td>\n",
              "      <td>@VirginAmerica it's really aggressive to blast...</td>\n",
              "      <td>it's really aggressive to blast obnoxious \"ent...</td>\n",
              "      <td>really aggressive blast obnoxious entertainmen...</td>\n",
              "      <td>really aggressive blast obnoxious entertainmen...</td>\n",
              "    </tr>\n",
              "    <tr>\n",
              "      <th>4</th>\n",
              "      <td>Bad</td>\n",
              "      <td>@VirginAmerica and it's a really big bad thing...</td>\n",
              "      <td>and it's a really big bad thing about it</td>\n",
              "      <td>really big bad thing</td>\n",
              "      <td>really big bad thing</td>\n",
              "    </tr>\n",
              "    <tr>\n",
              "      <th>5</th>\n",
              "      <td>Bad</td>\n",
              "      <td>@VirginAmerica seriously would pay $30 a fligh...</td>\n",
              "      <td>seriously would pay $30 a flight for seats tha...</td>\n",
              "      <td>seriously would pay 30 flight seats didnt play...</td>\n",
              "      <td>seriously would pay 30 flight seat didnt play ...</td>\n",
              "    </tr>\n",
              "    <tr>\n",
              "      <th>6</th>\n",
              "      <td>Good</td>\n",
              "      <td>@VirginAmerica yes, nearly every time I fly VX...</td>\n",
              "      <td>yes, nearly every time I fly VX this “ear worm...</td>\n",
              "      <td>yes nearly every time fly vx ear worm wont go ...</td>\n",
              "      <td>yes nearly every time fly vx ear worm wont go ...</td>\n",
              "    </tr>\n",
              "  </tbody>\n",
              "</table>\n",
              "</div>"
            ],
            "text/plain": [
              "  airline_sentiment  ...                          review_cleaned_lemmatized\n",
              "1              Good  ...         plus youve add commercial experience tacky\n",
              "3               Bad  ...  really aggressive blast obnoxious entertainmen...\n",
              "4               Bad  ...                               really big bad thing\n",
              "5               Bad  ...  seriously would pay 30 flight seat didnt play ...\n",
              "6              Good  ...  yes nearly every time fly vx ear worm wont go ...\n",
              "\n",
              "[5 rows x 5 columns]"
            ]
          },
          "metadata": {},
          "execution_count": 68
        }
      ]
    },
    {
      "cell_type": "code",
      "source": [
        "x2 = df2['review_cleaned_lemmatized']\n",
        "y2 = df2['airline_sentiment']"
      ],
      "metadata": {
        "id": "XPzS4g06ZZZz"
      },
      "execution_count": null,
      "outputs": []
    },
    {
      "cell_type": "code",
      "source": [
        "y_pred_log2 = logreg.predict(x2)"
      ],
      "metadata": {
        "id": "96adRSnaZ3wN"
      },
      "execution_count": null,
      "outputs": []
    },
    {
      "cell_type": "code",
      "source": [
        "print(\"Accuracy score on airlines tweets : \" + str(accuracy_score(y2, y_pred_log2)))"
      ],
      "metadata": {
        "colab": {
          "base_uri": "https://localhost:8080/"
        },
        "id": "vC3yXxhOZ901",
        "outputId": "f985f979-3346-45c2-f3c0-c9f9bcc11c71"
      },
      "execution_count": null,
      "outputs": [
        {
          "output_type": "stream",
          "name": "stdout",
          "text": [
            "Accuracy score on airlines tweets : 0.7496750714842735\n"
          ]
        }
      ]
    },
    {
      "cell_type": "code",
      "source": [
        "logreg.predict([\"the plane was 5 minutes ahead\"])[0]"
      ],
      "metadata": {
        "colab": {
          "base_uri": "https://localhost:8080/",
          "height": 35
        },
        "id": "mEKkMnkddge1",
        "outputId": "5a319193-2f02-41a6-f0ed-ef532eaf27e8"
      },
      "execution_count": null,
      "outputs": [
        {
          "output_type": "execute_result",
          "data": {
            "application/vnd.google.colaboratory.intrinsic+json": {
              "type": "string"
            },
            "text/plain": [
              "'Good'"
            ]
          },
          "metadata": {},
          "execution_count": 89
        }
      ]
    },
    {
      "cell_type": "code",
      "source": [
        "logreg.predict([\"the plane was 5 minutes late\"])[0]"
      ],
      "metadata": {
        "colab": {
          "base_uri": "https://localhost:8080/",
          "height": 35
        },
        "id": "ms7jK_Y5cOD0",
        "outputId": "714e18ea-b580-4e1b-ffc3-9bbb5661ddbf"
      },
      "execution_count": null,
      "outputs": [
        {
          "output_type": "execute_result",
          "data": {
            "application/vnd.google.colaboratory.intrinsic+json": {
              "type": "string"
            },
            "text/plain": [
              "'Bad'"
            ]
          },
          "metadata": {},
          "execution_count": 88
        }
      ]
    },
    {
      "cell_type": "markdown",
      "source": [
        "# Projection to neural networks\n",
        "We keep the weights of the models trained on the Amazon database, and we replace the inputs by the vectorized airline tweets"
      ],
      "metadata": {
        "id": "TV40Zyn7QY_q"
      }
    },
    {
      "cell_type": "code",
      "source": [
        "x2_test = x2\n",
        "y2_test = y2"
      ],
      "metadata": {
        "id": "dgJFr0kccZw8"
      },
      "execution_count": null,
      "outputs": []
    },
    {
      "cell_type": "code",
      "source": [
        "y2_test = y2_test.replace({\"Good\": 1, \"Bad\": 0})\n",
        "test_tf2 =  tf.data.Dataset.from_tensor_slices((x2_test,y2_test))"
      ],
      "metadata": {
        "id": "yZzgNCP7REAs"
      },
      "execution_count": null,
      "outputs": []
    },
    {
      "cell_type": "code",
      "source": [
        "# Results of ANN dense\n",
        "results = model.evaluate(test_tf2.batch(512), verbose=2)\n",
        "\n",
        "for name, value in zip(model.metrics_names, results):\n",
        "  print(\"%s: %.3f\" % (name, value))"
      ],
      "metadata": {
        "colab": {
          "base_uri": "https://localhost:8080/"
        },
        "id": "lwFSscfCRD9s",
        "outputId": "bb1cedc2-6899-4efa-ffde-f141da6831aa"
      },
      "execution_count": null,
      "outputs": [
        {
          "output_type": "stream",
          "name": "stdout",
          "text": [
            "23/23 - 1s - loss: 2.8980 - accuracy: 0.6779 - 585ms/epoch - 25ms/step\n",
            "loss: 2.898\n",
            "accuracy: 0.678\n"
          ]
        }
      ]
    },
    {
      "cell_type": "code",
      "source": [
        "# Results of CNN \n",
        "results_CNN = model_CNN.evaluate(test_tf2.batch(512), verbose=2)\n",
        "\n",
        "for name, value in zip(model_CNN.metrics_names, results_CNN):\n",
        "  print(\"%s: %.3f\" % (name, value))"
      ],
      "metadata": {
        "colab": {
          "base_uri": "https://localhost:8080/"
        },
        "id": "J8aAjD5ERD5y",
        "outputId": "d18f32ec-39b0-493a-a512-2559e6fc9fcb"
      },
      "execution_count": null,
      "outputs": [
        {
          "output_type": "stream",
          "name": "stdout",
          "text": [
            "23/23 - 1s - loss: 2.1120 - accuracy: 0.6837 - 581ms/epoch - 25ms/step\n",
            "loss: 2.112\n",
            "accuracy: 0.684\n"
          ]
        }
      ]
    },
    {
      "cell_type": "code",
      "source": [
        "# Results of RNN\n",
        "results_RNN = model.evaluate(test_tf2.batch(512), verbose=2)\n",
        "\n",
        "for name, value in zip(model_RNN.metrics_names, results_RNN):\n",
        "  print(\"%s: %.3f\" % (name, value))"
      ],
      "metadata": {
        "colab": {
          "base_uri": "https://localhost:8080/"
        },
        "id": "OobkBeUuRD2w",
        "outputId": "7400f078-2189-48cb-a081-4fa322826ea9"
      },
      "execution_count": null,
      "outputs": [
        {
          "output_type": "stream",
          "name": "stdout",
          "text": [
            "23/23 - 1s - loss: 2.8980 - accuracy: 0.6779 - 590ms/epoch - 26ms/step\n",
            "loss: 2.898\n",
            "accuracy: 0.678\n"
          ]
        }
      ]
    },
    {
      "cell_type": "markdown",
      "source": [
        "We didn't succeed to outperform the performance of the logistic  with our different ANN.\n",
        "However, the performance of the sentiment classifier are relatively good."
      ],
      "metadata": {
        "id": "OdKuS3R-UIgq"
      }
    },
    {
      "cell_type": "markdown",
      "source": [
        ""
      ],
      "metadata": {
        "id": "_pFGsnOkUF2y"
      }
    },
    {
      "cell_type": "code",
      "source": [
        ""
      ],
      "metadata": {
        "id": "EazlR7QzRDtm"
      },
      "execution_count": null,
      "outputs": []
    }
  ]
}